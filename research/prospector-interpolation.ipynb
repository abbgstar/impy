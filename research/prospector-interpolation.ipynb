{
 "cells": [
  {
   "cell_type": "code",
   "execution_count": 1,
   "metadata": {
    "collapsed": false
   },
   "outputs": [],
   "source": [
    "import os\n",
    "import numpy as np\n",
    "import h5py\n",
    "from prospect.sources.star_basis import StarBasis"
   ]
  },
  {
   "cell_type": "code",
   "execution_count": 2,
   "metadata": {
    "collapsed": true
   },
   "outputs": [],
   "source": [
    "libname = os.path.join(os.getenv('DESI_ROOT'), 'data', 'mwsinterp', 'miles_prugniel.h5')"
   ]
  },
  {
   "cell_type": "code",
   "execution_count": 3,
   "metadata": {
    "collapsed": false
   },
   "outputs": [],
   "source": [
    "f = h5py.File(libname, \"r\", driver=None)\n",
    "stellar_params1 = f['parameters'][:]\n",
    "f.close()"
   ]
  },
  {
   "cell_type": "code",
   "execution_count": 6,
   "metadata": {
    "collapsed": false
   },
   "outputs": [],
   "source": [
    "# Toss our the NaNs\n",
    "if False:\n",
    "    param_names = stellar_params1.dtype.names\n",
    "    good = np.ndarray( (len(param_names), len(stellar_params1)) )\n",
    "    for ii, pp in enumerate(param_names):\n",
    "        good[ii, :] = ~np.isnan(stellar_params1[pp])\n",
    "    these = np.where(np.sum(good, axis=0) == 3)[0]\n",
    "\n",
    "    stellar_params = np.ndarray( (len(these), ), dtype=[(p, 'f4') for p in param_names])\n",
    "    for pp in param_names:\n",
    "        stellar_params[pp] = stellar_params1[pp][these]"
   ]
  },
  {
   "cell_type": "code",
   "execution_count": 7,
   "metadata": {
    "collapsed": false
   },
   "outputs": [
    {
     "name": "stdout",
     "output_type": "stream",
     "text": [
      "(979, 3)\n"
     ]
    }
   ],
   "source": [
    "ss = StarBasis(libname, verbose=True, logify_Z=False)"
   ]
  },
  {
   "cell_type": "code",
   "execution_count": 8,
   "metadata": {
    "collapsed": false
   },
   "outputs": [
    {
     "data": {
      "text/plain": [
       "(array([ 43, 741, 750, 891], dtype=int32),\n",
       " array([ 0.20431003,  0.54597613,  0.11161181,  0.13810203]))"
      ]
     },
     "execution_count": 8,
     "metadata": {},
     "output_type": "execute_result"
    }
   ],
   "source": [
    "ss.weights(teff=6435, feh=0.0, logg=1.0)"
   ]
  },
  {
   "cell_type": "code",
   "execution_count": 9,
   "metadata": {
    "collapsed": false
   },
   "outputs": [],
   "source": [
    "wave, flux, ferr = ss.get_star_spectrum(teff=6435, feh=0.0, logg=1.0)"
   ]
  },
  {
   "cell_type": "code",
   "execution_count": null,
   "metadata": {
    "collapsed": true
   },
   "outputs": [],
   "source": []
  }
 ],
 "metadata": {
  "kernelspec": {
   "display_name": "Python 3",
   "language": "python",
   "name": "python3"
  },
  "language_info": {
   "codemirror_mode": {
    "name": "ipython",
    "version": 3
   },
   "file_extension": ".py",
   "mimetype": "text/x-python",
   "name": "python",
   "nbconvert_exporter": "python",
   "pygments_lexer": "ipython3",
   "version": "3.5.2"
  }
 },
 "nbformat": 4,
 "nbformat_minor": 2
}
