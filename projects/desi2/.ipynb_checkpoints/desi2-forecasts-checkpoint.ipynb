{
 "cells": [
  {
   "cell_type": "code",
   "execution_count": 98,
   "metadata": {
    "collapsed": false
   },
   "outputs": [],
   "source": [
    "import os\n",
    "import numpy as np\n",
    "import matplotlib.pyplot as plt\n",
    "\n",
    "from astropy.io import fits\n",
    "from astropy.table import Table, vstack\n",
    "import seaborn as sns\n",
    "\n",
    "from desispec import io\n",
    "from desispec.log import get_logger\n",
    "from desispec.io.util import write_bintable, makepath\n",
    "\n",
    "%matplotlib inline\n",
    "sns.set(style='ticks', font_scale=1.5, palette='Set2')\n",
    "col = sns.color_palette()"
   ]
  },
  {
   "cell_type": "code",
   "execution_count": 17,
   "metadata": {
    "collapsed": false
   },
   "outputs": [],
   "source": [
    "# Set the paths.\n",
    "desidir = os.getenv('DESI_ROOT')\n",
    "simsdir = os.path.join(desidir, 'spectro', 'sim', 'desi2')\n",
    "brickdir = os.path.join(simsdir, 'bricks')\n",
    "\n",
    "log = get_logger()"
   ]
  },
  {
   "cell_type": "code",
   "execution_count": 10,
   "metadata": {
    "collapsed": true
   },
   "outputs": [],
   "source": [
    "seed = 678245\n",
    "brickroot = 'sim01'\n",
    "zenith = 180\n",
    "nspec = 10\n",
    "\n",
    "# Mapping from limiting r-band magnitude and median redshift is \n",
    "# from cosmos_zmedian_vs_rmag.fits from Risa.\n",
    "exptime = np.array([5.0, 8.0, 10.0, 15.0, 20.0, 30.0, 40.0, 60.0])*60.0\n",
    "rmag = [(20.0, 20.0), (20.5, 20.5), (21.0, 21.0), (21.5, 21.5), (22.0, 22.0), (22.5, 22.5)]\n",
    "redshift = [0.2, 0.25, 0.25, 0.28, 0.33, 0.35]\n",
    "\n",
    "nexp = len(exptime)\n",
    "nrmag = np.shape(rmag)[0]\n",
    "nbrick = nexp * nrmag\n",
    "\n",
    "nobj = nbrick*nspec\n",
    "rand = np.random.RandomState(seed)\n",
    "brickseed = rand.randint(2**32, size=nbrick)"
   ]
  },
  {
   "cell_type": "code",
   "execution_count": 11,
   "metadata": {
    "collapsed": true
   },
   "outputs": [],
   "source": [
    "def make_bricks():\n",
    "    '''Generate the bricks.'''\n",
    "    brickcount = 0\n",
    "    for ie in range(nexp):\n",
    "        for ir in range(nrmag):\n",
    "            brickname = '{}-{:03d}'.format(brickroot, brickcount)\n",
    "            brightoptions = [\n",
    "                '--brickname', '{}'.format(brickname),\n",
    "                '--nbrick', '{}'.format(1),\n",
    "                '--nspec', '{}'.format(nspec),\n",
    "                '--outdir', '{}'.format(simsdir),\n",
    "                '--brickdir', '{}'.format(brickdir),\n",
    "                '--seed', '{}'.format(brickseed[brickcount]),\n",
    "                '--objtype', 'BGS']\n",
    "                \n",
    "            simoptions = [\n",
    "                '--exptime-range', '{}'.format(exptime[ie]), '{}'.format(exptime[ie]), \n",
    "                '--rmagrange-bgs', '{}'.format(rmag[ir][0]), '{}'.format(rmag[ir][1]), \n",
    "                '--zrange-bgs', '{}'.format(redshift[ir]), '{}'.format(redshift[ir]), \n",
    "                '--moon-zenith-range', '{}'.format(zenith), '{}'.format(zenith)]\n",
    "\n",
    "            brightargs = brightsims.parse(np.hstack((brightoptions, simoptions)))\n",
    "            brightargs.verbose = True\n",
    "            brightsims.main(brightargs)\n",
    "            brickcount += 1"
   ]
  },
  {
   "cell_type": "code",
   "execution_count": 87,
   "metadata": {
    "collapsed": false
   },
   "outputs": [],
   "source": [
    "def parse_results():\n",
    "    '''Parse the results.'''\n",
    "    for ib in range(nbrick):\n",
    "        inputfile = os.path.join(simsdir, brickroot+'-{:03d}-input.fits'.format(ib))\n",
    "        #log.info('Reading {}'.format(inputfile))\n",
    "        cat1 = Table(fits.getdata(inputfile, 1))\n",
    "        if ib == 0:\n",
    "            cat = cat1\n",
    "        else:\n",
    "            cat = vstack((cat, cat1))\n",
    "\n",
    "    # Build a results table.\n",
    "    resultfile = makepath(os.path.join(simsdir, '{}-results.fits'.format(brickroot)))\n",
    "    resultcols = [\n",
    "        ('BRICKNAME', 'S20'),\n",
    "        ('EXPTIME', 'f4'),\n",
    "        ('AIRMASS', 'f4'),\n",
    "        ('SNR_B', 'f4'),\n",
    "        ('SNR_R', 'f4'),\n",
    "        ('SNR_Z', 'f4'),\n",
    "        ('TARGETID', 'i8'),\n",
    "        ('RMAG', 'f4'),\n",
    "        ('D4000', 'f4'),\n",
    "        ('EWHBETA', 'f4'), \n",
    "        ('ZTRUE', 'f4'), \n",
    "        ('Z', 'f4'), \n",
    "        ('ZERR', 'f4'), \n",
    "        ('ZWARNING', 'f4')]\n",
    "    result = Table(np.zeros(nobj, dtype=resultcols))\n",
    "    \n",
    "    avgresultfile = makepath(os.path.join(simsdir, '{}-avgresults.fits'.format(brickroot)))\n",
    "    avgresultcols = [\n",
    "        ('BRICKNAME', 'S20'),\n",
    "        ('EXPTIME', 'f4'),\n",
    "        ('AIRMASS', 'f4'),\n",
    "        ('SNR_B', 'f4'),\n",
    "        ('SNR_R', 'f4'),\n",
    "        ('SNR_Z', 'f4'),\n",
    "        ('RMAG', 'f4')]\n",
    "    avgresult = Table(np.zeros(nbrick, dtype=avgresultcols))\n",
    "\n",
    "    for ib in range(nbrick):\n",
    "        # Copy over some data.\n",
    "        thisbrick = cat['BRICKNAME'][ib]\n",
    "        result['BRICKNAME'][nspec*ib:nspec*(ib+1)] = thisbrick\n",
    "        result['EXPTIME'][nspec*ib:nspec*(ib+1)] = cat['EXPTIME'][ib]\n",
    "        result['AIRMASS'][nspec*ib:nspec*(ib+1)] = cat['AIRMASS'][ib]\n",
    "\n",
    "        avgresult['BRICKNAME'][ib] = thisbrick\n",
    "        avgresult['EXPTIME'][ib] = cat['EXPTIME'][ib]\n",
    "        avgresult['AIRMASS'][ib] = cat['AIRMASS'][ib]\n",
    "        \n",
    "        # Read the truth file of the first channel to get the metadata.\n",
    "        truthfile = os.path.join(brickdir, thisbrick, 'truth-brick-{}-{}.fits'.format('b', thisbrick))\n",
    "        log.info('Reading {}'.format(truthfile))\n",
    "        truth = io.Brick(truthfile).hdu_list[4].data\n",
    "\n",
    "        result['TARGETID'][nspec*ib:nspec*(ib+1)] = truth['TARGETID']\n",
    "        result['RMAG'][nspec*ib:nspec*(ib+1)] = 22.5-2.5*np.log10(truth['DECAM_FLUX'][:, 2])\n",
    "        result['D4000'][nspec*ib:nspec*(ib+1)] = truth['D4000']\n",
    "        result['EWHBETA'][nspec*ib:nspec*(ib+1)] = truth['EWHBETA']\n",
    "        result['ZTRUE'][nspec*ib:nspec*(ib+1)] = truth['TRUEZ']\n",
    "\n",
    "        avgresult['RMAG'][ib] = np.mean(22.5-2.5*np.log10(truth['DECAM_FLUX'][:, 2]))\n",
    "        \n",
    "        # Finally read the zbest file. \n",
    "        zbestfile = os.path.join(brickdir, thisbrick, 'zbest-{}.fits'.format(thisbrick))\n",
    "        if os.path.isfile(zbestfile):\n",
    "            log.info('Reading {}'.format(zbestfile))\n",
    "            zbest = read_zbest(zbestfile)\n",
    "            # There's gotta be a better way than looping here!\n",
    "            for ii in range(nspec):\n",
    "                this = np.where(zbest.targetid[ii] == result['TARGETID'])[0]\n",
    "                result['Z'][this] = zbest.z[ii]\n",
    "                result['ZERR'][this] = zbest.zerr[ii]\n",
    "                result['ZWARNING'][this] = zbest.zwarn[ii]\n",
    "                \n",
    "        # Finally, read the spectra and truth tables, one per channel.\n",
    "        for channel in ('b','r','z'):\n",
    "            brickfile = os.path.join(brickdir, thisbrick, 'brick-{}-{}.fits'.format(channel, thisbrick))\n",
    "\n",
    "            log.info('Reading {}'.format(brickfile))\n",
    "            brick = io.Brick(brickfile)\n",
    "            wave = brick.get_wavelength_grid()\n",
    "\n",
    "            for iobj in range(nspec):\n",
    "                flux = brick.hdu_list[0].data[iobj,:]\n",
    "                ivar = brick.hdu_list[1].data[iobj,:]\n",
    "                these = np.where((wave>np.mean(wave)-50)*(wave<np.mean(wave)+50)*(flux>0))[0]\n",
    "                print(np.mean(wave[these]))\n",
    "                result['SNR_'+channel.upper()][nspec*ib+iobj] = \\\n",
    "                  np.median(np.sqrt(flux[these]*ivar[these]))\n",
    "\n",
    "            avgresult['SNR_'+channel.upper()][ib] = np.mean(\n",
    "                result['SNR_'+channel.upper()][nspec*ib:nspec*(ib+1)])\n",
    "                    \n",
    "    log.info('Writing {}'.format(resultfile))\n",
    "    write_bintable(resultfile, result, extname='RESULTS', clobber=True)\n",
    "    \n",
    "    log.info('Writing {}'.format(avgresultfile))\n",
    "    write_bintable(avgresultfile, avgresult, extname='AVGRESULTS', clobber=True)"
   ]
  },
  {
   "cell_type": "code",
   "execution_count": null,
   "metadata": {
    "collapsed": true
   },
   "outputs": [],
   "source": [
    "# Build the bricks.\n",
    "make_bricks()"
   ]
  },
  {
   "cell_type": "code",
   "execution_count": 88,
   "metadata": {
    "collapsed": false
   },
   "outputs": [
    {
     "name": "stdout",
     "output_type": "stream",
     "text": [
      "INFO:<ipython-input-87-5296c7c11ff9>:55:parse_results: Reading /Users/ioannis/research/projects/desi/spectro/sim/desi2/bricks/sim01-000-000/truth-brick-b-sim01-000-000.fits\n"
     ]
    },
    {
     "name": "stderr",
     "output_type": "stream",
     "text": [
      "INFO:DESI:Reading /Users/ioannis/research/projects/desi/spectro/sim/desi2/bricks/sim01-000-000/truth-brick-b-sim01-000-000.fits\n"
     ]
    },
    {
     "name": "stdout",
     "output_type": "stream",
     "text": [
      "INFO:<ipython-input-87-5296c7c11ff9>:82:parse_results: Reading /Users/ioannis/research/projects/desi/spectro/sim/desi2/bricks/sim01-000-000/brick-b-sim01-000-000.fits\n"
     ]
    },
    {
     "name": "stderr",
     "output_type": "stream",
     "text": [
      "INFO:DESI:Reading /Users/ioannis/research/projects/desi/spectro/sim/desi2/bricks/sim01-000-000/brick-b-sim01-000-000.fits\n"
     ]
    },
    {
     "name": "stdout",
     "output_type": "stream",
     "text": [
      "4759.93\n",
      "4759.51\n",
      "4760.95\n",
      "4760.93\n",
      "4761.45\n",
      "4761.3\n",
      "4759.36\n",
      "4759.84\n",
      "4762.2\n",
      "4759.25\n",
      "INFO:<ipython-input-87-5296c7c11ff9>:82:parse_results: Reading /Users/ioannis/research/projects/desi/spectro/sim/desi2/bricks/sim01-000-000/brick-r-sim01-000-000.fits\n"
     ]
    },
    {
     "name": "stderr",
     "output_type": "stream",
     "text": [
      "INFO:DESI:Reading /Users/ioannis/research/projects/desi/spectro/sim/desi2/bricks/sim01-000-000/brick-r-sim01-000-000.fits\n"
     ]
    },
    {
     "name": "stdout",
     "output_type": "stream",
     "text": [
      "6682.63\n",
      "6683.16\n",
      "6682.61\n",
      "6683.15\n",
      "6682.81\n",
      "6683.02\n",
      "6683.2\n",
      "6682.82\n",
      "6682.94\n",
      "6682.64\n",
      "INFO:<ipython-input-87-5296c7c11ff9>:82:parse_results: Reading /Users/ioannis/research/projects/desi/spectro/sim/desi2/bricks/sim01-000-000/brick-z-sim01-000-000.fits\n"
     ]
    },
    {
     "name": "stderr",
     "output_type": "stream",
     "text": [
      "INFO:DESI:Reading /Users/ioannis/research/projects/desi/spectro/sim/desi2/bricks/sim01-000-000/brick-z-sim01-000-000.fits\n"
     ]
    },
    {
     "name": "stdout",
     "output_type": "stream",
     "text": [
      "8634.0\n",
      "8633.54\n",
      "8633.83\n",
      "8633.94\n",
      "8633.76\n",
      "8634.21\n",
      "8632.91\n",
      "8633.25\n",
      "8633.86\n",
      "8632.42\n",
      "INFO:<ipython-input-87-5296c7c11ff9>:55:parse_results: Reading /Users/ioannis/research/projects/desi/spectro/sim/desi2/bricks/sim01-001-000/truth-brick-b-sim01-001-000.fits\n"
     ]
    },
    {
     "name": "stderr",
     "output_type": "stream",
     "text": [
      "INFO:DESI:Reading /Users/ioannis/research/projects/desi/spectro/sim/desi2/bricks/sim01-001-000/truth-brick-b-sim01-001-000.fits\n"
     ]
    },
    {
     "name": "stdout",
     "output_type": "stream",
     "text": [
      "INFO:<ipython-input-87-5296c7c11ff9>:82:parse_results: Reading /Users/ioannis/research/projects/desi/spectro/sim/desi2/bricks/sim01-001-000/brick-b-sim01-001-000.fits\n"
     ]
    },
    {
     "name": "stderr",
     "output_type": "stream",
     "text": [
      "INFO:DESI:Reading /Users/ioannis/research/projects/desi/spectro/sim/desi2/bricks/sim01-001-000/brick-b-sim01-001-000.fits\n"
     ]
    },
    {
     "name": "stdout",
     "output_type": "stream",
     "text": [
      "4758.34\n",
      "4758.41\n",
      "4757.07\n",
      "4758.12\n",
      "4759.81\n",
      "4759.42\n",
      "4755.18\n",
      "4757.76\n",
      "4754.88\n",
      "4759.44\n",
      "INFO:<ipython-input-87-5296c7c11ff9>:82:parse_results: Reading /Users/ioannis/research/projects/desi/spectro/sim/desi2/bricks/sim01-001-000/brick-r-sim01-001-000.fits\n"
     ]
    },
    {
     "name": "stderr",
     "output_type": "stream",
     "text": [
      "INFO:DESI:Reading /Users/ioannis/research/projects/desi/spectro/sim/desi2/bricks/sim01-001-000/brick-r-sim01-001-000.fits\n"
     ]
    },
    {
     "name": "stdout",
     "output_type": "stream",
     "text": [
      "6683.48\n",
      "6683.0\n",
      "6683.46\n",
      "6683.66\n",
      "6683.29\n",
      "6683.39\n",
      "6683.15\n",
      "6682.78\n",
      "6682.72\n",
      "6683.17\n",
      "INFO:<ipython-input-87-5296c7c11ff9>:82:parse_results: Reading /Users/ioannis/research/projects/desi/spectro/sim/desi2/bricks/sim01-001-000/brick-z-sim01-001-000.fits\n"
     ]
    },
    {
     "name": "stderr",
     "output_type": "stream",
     "text": [
      "INFO:DESI:Reading /Users/ioannis/research/projects/desi/spectro/sim/desi2/bricks/sim01-001-000/brick-z-sim01-001-000.fits\n"
     ]
    },
    {
     "name": "stdout",
     "output_type": "stream",
     "text": [
      "8633.45\n",
      "8630.74\n",
      "8632.09\n",
      "8632.45\n",
      "8631.53\n",
      "8631.46\n",
      "8632.79\n",
      "8633.65\n",
      "8633.66\n",
      "8632.84\n",
      "INFO:<ipython-input-87-5296c7c11ff9>:55:parse_results: Reading /Users/ioannis/research/projects/desi/spectro/sim/desi2/bricks/sim01-002-000/truth-brick-b-sim01-002-000.fits\n"
     ]
    },
    {
     "name": "stderr",
     "output_type": "stream",
     "text": [
      "INFO:DESI:Reading /Users/ioannis/research/projects/desi/spectro/sim/desi2/bricks/sim01-002-000/truth-brick-b-sim01-002-000.fits\n"
     ]
    },
    {
     "name": "stdout",
     "output_type": "stream",
     "text": [
      "INFO:<ipython-input-87-5296c7c11ff9>:82:parse_results: Reading /Users/ioannis/research/projects/desi/spectro/sim/desi2/bricks/sim01-002-000/brick-b-sim01-002-000.fits\n"
     ]
    },
    {
     "name": "stderr",
     "output_type": "stream",
     "text": [
      "INFO:DESI:Reading /Users/ioannis/research/projects/desi/spectro/sim/desi2/bricks/sim01-002-000/brick-b-sim01-002-000.fits\n"
     ]
    },
    {
     "name": "stdout",
     "output_type": "stream",
     "text": [
      "4758.74\n",
      "4757.5\n",
      "4758.02\n",
      "4759.93\n",
      "4756.56\n",
      "4757.69\n",
      "4756.25\n",
      "4760.67\n",
      "4760.89\n",
      "4756.25\n",
      "INFO:<ipython-input-87-5296c7c11ff9>:82:parse_results: Reading /Users/ioannis/research/projects/desi/spectro/sim/desi2/bricks/sim01-002-000/brick-r-sim01-002-000.fits\n"
     ]
    },
    {
     "name": "stderr",
     "output_type": "stream",
     "text": [
      "INFO:DESI:Reading /Users/ioannis/research/projects/desi/spectro/sim/desi2/bricks/sim01-002-000/brick-r-sim01-002-000.fits\n"
     ]
    },
    {
     "name": "stdout",
     "output_type": "stream",
     "text": [
      "6684.87\n",
      "6683.49\n",
      "6683.02\n",
      "6685.14\n",
      "6684.97\n",
      "6684.0\n",
      "6681.25\n",
      "6683.65\n",
      "6682.44\n",
      "6684.74\n",
      "INFO:<ipython-input-87-5296c7c11ff9>:82:parse_results: Reading /Users/ioannis/research/projects/desi/spectro/sim/desi2/bricks/sim01-002-000/brick-z-sim01-002-000.fits\n"
     ]
    },
    {
     "name": "stderr",
     "output_type": "stream",
     "text": [
      "INFO:DESI:Reading /Users/ioannis/research/projects/desi/spectro/sim/desi2/bricks/sim01-002-000/brick-z-sim01-002-000.fits\n"
     ]
    },
    {
     "name": "stdout",
     "output_type": "stream",
     "text": [
      "8631.94\n",
      "8633.23\n",
      "8630.62\n",
      "8633.33\n",
      "8631.64\n",
      "8632.96\n",
      "8630.93\n",
      "8631.93\n",
      "8633.02\n",
      "8631.54\n",
      "INFO:<ipython-input-87-5296c7c11ff9>:55:parse_results: Reading /Users/ioannis/research/projects/desi/spectro/sim/desi2/bricks/sim01-003-000/truth-brick-b-sim01-003-000.fits\n"
     ]
    },
    {
     "name": "stderr",
     "output_type": "stream",
     "text": [
      "INFO:DESI:Reading /Users/ioannis/research/projects/desi/spectro/sim/desi2/bricks/sim01-003-000/truth-brick-b-sim01-003-000.fits\n"
     ]
    },
    {
     "name": "stdout",
     "output_type": "stream",
     "text": [
      "INFO:<ipython-input-87-5296c7c11ff9>:82:parse_results: Reading /Users/ioannis/research/projects/desi/spectro/sim/desi2/bricks/sim01-003-000/brick-b-sim01-003-000.fits\n"
     ]
    },
    {
     "name": "stderr",
     "output_type": "stream",
     "text": [
      "INFO:DESI:Reading /Users/ioannis/research/projects/desi/spectro/sim/desi2/bricks/sim01-003-000/brick-b-sim01-003-000.fits\n"
     ]
    },
    {
     "name": "stdout",
     "output_type": "stream",
     "text": [
      "4759.84\n",
      "4761.25\n",
      "4759.4\n",
      "4757.46\n",
      "4756.96\n",
      "4757.4\n",
      "4758.46\n",
      "4758.7\n",
      "4758.2\n",
      "4757.85\n",
      "INFO:<ipython-input-87-5296c7c11ff9>:82:parse_results: Reading /Users/ioannis/research/projects/desi/spectro/sim/desi2/bricks/sim01-003-000/brick-r-sim01-003-000.fits\n"
     ]
    },
    {
     "name": "stderr",
     "output_type": "stream",
     "text": [
      "INFO:DESI:Reading /Users/ioannis/research/projects/desi/spectro/sim/desi2/bricks/sim01-003-000/brick-r-sim01-003-000.fits\n"
     ]
    },
    {
     "name": "stdout",
     "output_type": "stream",
     "text": [
      "6682.77\n",
      "6682.86\n",
      "6683.5\n",
      "6683.72\n",
      "6683.76\n",
      "6684.89\n",
      "6683.66\n",
      "6684.14\n",
      "6685.47\n",
      "6682.31\n",
      "INFO:<ipython-input-87-5296c7c11ff9>:82:parse_results: Reading /Users/ioannis/research/projects/desi/spectro/sim/desi2/bricks/sim01-003-000/brick-z-sim01-003-000.fits\n"
     ]
    },
    {
     "name": "stderr",
     "output_type": "stream",
     "text": [
      "INFO:DESI:Reading /Users/ioannis/research/projects/desi/spectro/sim/desi2/bricks/sim01-003-000/brick-z-sim01-003-000.fits\n"
     ]
    },
    {
     "name": "stdout",
     "output_type": "stream",
     "text": [
      "8631.24\n",
      "8632.44\n",
      "8629.74\n",
      "8633.19\n",
      "8634.42\n",
      "8633.16\n",
      "8632.6\n",
      "8633.53\n",
      "8631.48\n",
      "8632.6\n",
      "INFO:<ipython-input-87-5296c7c11ff9>:55:parse_results: Reading /Users/ioannis/research/projects/desi/spectro/sim/desi2/bricks/sim01-004-000/truth-brick-b-sim01-004-000.fits\n"
     ]
    },
    {
     "name": "stderr",
     "output_type": "stream",
     "text": [
      "INFO:DESI:Reading /Users/ioannis/research/projects/desi/spectro/sim/desi2/bricks/sim01-004-000/truth-brick-b-sim01-004-000.fits\n"
     ]
    },
    {
     "name": "stdout",
     "output_type": "stream",
     "text": [
      "INFO:<ipython-input-87-5296c7c11ff9>:82:parse_results: Reading /Users/ioannis/research/projects/desi/spectro/sim/desi2/bricks/sim01-004-000/brick-b-sim01-004-000.fits\n"
     ]
    },
    {
     "name": "stderr",
     "output_type": "stream",
     "text": [
      "INFO:DESI:Reading /Users/ioannis/research/projects/desi/spectro/sim/desi2/bricks/sim01-004-000/brick-b-sim01-004-000.fits\n"
     ]
    },
    {
     "name": "stdout",
     "output_type": "stream",
     "text": [
      "4761.42\n",
      "4756.98\n",
      "4758.26\n",
      "4759.3\n",
      "4756.31\n",
      "4758.44\n",
      "4759.44\n",
      "4759.01\n",
      "4758.67\n",
      "4756.62\n",
      "INFO:<ipython-input-87-5296c7c11ff9>:82:parse_results: Reading /Users/ioannis/research/projects/desi/spectro/sim/desi2/bricks/sim01-004-000/brick-r-sim01-004-000.fits\n"
     ]
    },
    {
     "name": "stderr",
     "output_type": "stream",
     "text": [
      "INFO:DESI:Reading /Users/ioannis/research/projects/desi/spectro/sim/desi2/bricks/sim01-004-000/brick-r-sim01-004-000.fits\n"
     ]
    },
    {
     "name": "stdout",
     "output_type": "stream",
     "text": [
      "6682.32\n",
      "6683.52\n",
      "6685.06\n",
      "6682.2\n",
      "6684.88\n",
      "6682.02\n",
      "6682.65\n",
      "6682.27\n",
      "6682.25\n",
      "6681.7\n",
      "INFO:<ipython-input-87-5296c7c11ff9>:82:parse_results: Reading /Users/ioannis/research/projects/desi/spectro/sim/desi2/bricks/sim01-004-000/brick-z-sim01-004-000.fits\n"
     ]
    },
    {
     "name": "stderr",
     "output_type": "stream",
     "text": [
      "INFO:DESI:Reading /Users/ioannis/research/projects/desi/spectro/sim/desi2/bricks/sim01-004-000/brick-z-sim01-004-000.fits\n"
     ]
    },
    {
     "name": "stdout",
     "output_type": "stream",
     "text": [
      "8631.18\n",
      "8633.14\n",
      "8632.57\n",
      "8630.66\n",
      "8631.18\n",
      "8630.7\n",
      "8633.53\n",
      "8631.29\n",
      "8632.43\n",
      "8631.65\n",
      "INFO:<ipython-input-87-5296c7c11ff9>:55:parse_results: Reading /Users/ioannis/research/projects/desi/spectro/sim/desi2/bricks/sim01-005-000/truth-brick-b-sim01-005-000.fits\n"
     ]
    },
    {
     "name": "stderr",
     "output_type": "stream",
     "text": [
      "INFO:DESI:Reading /Users/ioannis/research/projects/desi/spectro/sim/desi2/bricks/sim01-005-000/truth-brick-b-sim01-005-000.fits\n"
     ]
    },
    {
     "name": "stdout",
     "output_type": "stream",
     "text": [
      "INFO:<ipython-input-87-5296c7c11ff9>:82:parse_results: Reading /Users/ioannis/research/projects/desi/spectro/sim/desi2/bricks/sim01-005-000/brick-b-sim01-005-000.fits\n"
     ]
    },
    {
     "name": "stderr",
     "output_type": "stream",
     "text": [
      "INFO:DESI:Reading /Users/ioannis/research/projects/desi/spectro/sim/desi2/bricks/sim01-005-000/brick-b-sim01-005-000.fits\n"
     ]
    },
    {
     "name": "stdout",
     "output_type": "stream",
     "text": [
      "4761.9\n",
      "4756.99\n",
      "4760.27\n",
      "4760.53\n",
      "4761.11\n",
      "4757.28\n",
      "4759.42\n",
      "4760.39\n",
      "4761.63\n",
      "4758.2\n",
      "INFO:<ipython-input-87-5296c7c11ff9>:82:parse_results: Reading /Users/ioannis/research/projects/desi/spectro/sim/desi2/bricks/sim01-005-000/brick-r-sim01-005-000.fits\n"
     ]
    },
    {
     "name": "stderr",
     "output_type": "stream",
     "text": [
      "INFO:DESI:Reading /Users/ioannis/research/projects/desi/spectro/sim/desi2/bricks/sim01-005-000/brick-r-sim01-005-000.fits\n"
     ]
    },
    {
     "name": "stdout",
     "output_type": "stream",
     "text": [
      "6684.2\n",
      "6680.64\n",
      "6684.03\n",
      "6684.98\n",
      "6684.86\n",
      "6684.47\n",
      "6685.13\n",
      "6683.52\n",
      "6682.97\n",
      "6681.57\n",
      "INFO:<ipython-input-87-5296c7c11ff9>:82:parse_results: Reading /Users/ioannis/research/projects/desi/spectro/sim/desi2/bricks/sim01-005-000/brick-z-sim01-005-000.fits\n"
     ]
    },
    {
     "name": "stderr",
     "output_type": "stream",
     "text": [
      "INFO:DESI:Reading /Users/ioannis/research/projects/desi/spectro/sim/desi2/bricks/sim01-005-000/brick-z-sim01-005-000.fits\n"
     ]
    },
    {
     "name": "stdout",
     "output_type": "stream",
     "text": [
      "8634.22\n",
      "8633.7\n",
      "8630.32\n",
      "8630.6\n",
      "8634.36\n",
      "8632.15\n",
      "8631.57\n",
      "8632.71\n",
      "8633.06\n",
      "8630.56\n",
      "INFO:<ipython-input-87-5296c7c11ff9>:55:parse_results: Reading /Users/ioannis/research/projects/desi/spectro/sim/desi2/bricks/sim01-006-000/truth-brick-b-sim01-006-000.fits\n"
     ]
    },
    {
     "name": "stderr",
     "output_type": "stream",
     "text": [
      "INFO:DESI:Reading /Users/ioannis/research/projects/desi/spectro/sim/desi2/bricks/sim01-006-000/truth-brick-b-sim01-006-000.fits\n"
     ]
    },
    {
     "name": "stdout",
     "output_type": "stream",
     "text": [
      "INFO:<ipython-input-87-5296c7c11ff9>:82:parse_results: Reading /Users/ioannis/research/projects/desi/spectro/sim/desi2/bricks/sim01-006-000/brick-b-sim01-006-000.fits\n"
     ]
    },
    {
     "name": "stderr",
     "output_type": "stream",
     "text": [
      "INFO:DESI:Reading /Users/ioannis/research/projects/desi/spectro/sim/desi2/bricks/sim01-006-000/brick-b-sim01-006-000.fits\n"
     ]
    },
    {
     "name": "stdout",
     "output_type": "stream",
     "text": [
      "4759.59\n",
      "4759.88\n",
      "4761.81\n",
      "4759.46\n",
      "4760.55\n",
      "4758.73\n",
      "4759.3\n",
      "4758.75\n",
      "4761.18\n",
      "4763.42\n",
      "INFO:<ipython-input-87-5296c7c11ff9>:82:parse_results: Reading /Users/ioannis/research/projects/desi/spectro/sim/desi2/bricks/sim01-006-000/brick-r-sim01-006-000.fits\n"
     ]
    },
    {
     "name": "stderr",
     "output_type": "stream",
     "text": [
      "INFO:DESI:Reading /Users/ioannis/research/projects/desi/spectro/sim/desi2/bricks/sim01-006-000/brick-r-sim01-006-000.fits\n"
     ]
    },
    {
     "name": "stdout",
     "output_type": "stream",
     "text": [
      "6683.12\n",
      "6682.93\n",
      "6682.95\n",
      "6682.97\n",
      "6682.95\n",
      "6682.95\n",
      "6682.96\n",
      "6682.94\n",
      "6682.95\n",
      "6682.95\n",
      "INFO:<ipython-input-87-5296c7c11ff9>:82:parse_results: Reading /Users/ioannis/research/projects/desi/spectro/sim/desi2/bricks/sim01-006-000/brick-z-sim01-006-000.fits\n"
     ]
    },
    {
     "name": "stderr",
     "output_type": "stream",
     "text": [
      "INFO:DESI:Reading /Users/ioannis/research/projects/desi/spectro/sim/desi2/bricks/sim01-006-000/brick-z-sim01-006-000.fits\n"
     ]
    },
    {
     "name": "stdout",
     "output_type": "stream",
     "text": [
      "8634.45\n",
      "8634.44\n",
      "8634.25\n",
      "8633.8\n",
      "8634.28\n",
      "8634.08\n",
      "8633.86\n",
      "8633.89\n",
      "8634.06\n",
      "8634.26\n",
      "INFO:<ipython-input-87-5296c7c11ff9>:55:parse_results: Reading /Users/ioannis/research/projects/desi/spectro/sim/desi2/bricks/sim01-007-000/truth-brick-b-sim01-007-000.fits\n"
     ]
    },
    {
     "name": "stderr",
     "output_type": "stream",
     "text": [
      "INFO:DESI:Reading /Users/ioannis/research/projects/desi/spectro/sim/desi2/bricks/sim01-007-000/truth-brick-b-sim01-007-000.fits\n"
     ]
    },
    {
     "name": "stdout",
     "output_type": "stream",
     "text": [
      "INFO:<ipython-input-87-5296c7c11ff9>:82:parse_results: Reading /Users/ioannis/research/projects/desi/spectro/sim/desi2/bricks/sim01-007-000/brick-b-sim01-007-000.fits\n"
     ]
    },
    {
     "name": "stderr",
     "output_type": "stream",
     "text": [
      "INFO:DESI:Reading /Users/ioannis/research/projects/desi/spectro/sim/desi2/bricks/sim01-007-000/brick-b-sim01-007-000.fits\n"
     ]
    },
    {
     "name": "stdout",
     "output_type": "stream",
     "text": [
      "4759.02\n",
      "4757.5\n",
      "4757.65\n",
      "4757.68\n",
      "4758.1\n",
      "4756.84\n",
      "4759.23\n",
      "4758.23\n",
      "4761.93\n",
      "4758.77\n",
      "INFO:<ipython-input-87-5296c7c11ff9>:82:parse_results: Reading /Users/ioannis/research/projects/desi/spectro/sim/desi2/bricks/sim01-007-000/brick-r-sim01-007-000.fits\n"
     ]
    },
    {
     "name": "stderr",
     "output_type": "stream",
     "text": [
      "INFO:DESI:Reading /Users/ioannis/research/projects/desi/spectro/sim/desi2/bricks/sim01-007-000/brick-r-sim01-007-000.fits\n"
     ]
    },
    {
     "name": "stdout",
     "output_type": "stream",
     "text": [
      "6683.1\n",
      "6682.87\n",
      "6682.68\n",
      "6682.84\n",
      "6683.41\n",
      "6683.17\n",
      "6682.55\n",
      "6683.34\n",
      "6682.63\n",
      "6683.22\n",
      "INFO:<ipython-input-87-5296c7c11ff9>:82:parse_results: Reading /Users/ioannis/research/projects/desi/spectro/sim/desi2/bricks/sim01-007-000/brick-z-sim01-007-000.fits\n"
     ]
    },
    {
     "name": "stderr",
     "output_type": "stream",
     "text": [
      "INFO:DESI:Reading /Users/ioannis/research/projects/desi/spectro/sim/desi2/bricks/sim01-007-000/brick-z-sim01-007-000.fits\n"
     ]
    },
    {
     "name": "stdout",
     "output_type": "stream",
     "text": [
      "8633.44\n",
      "8633.88\n",
      "8633.2\n",
      "8632.24\n",
      "8633.52\n",
      "8634.29\n",
      "8633.6\n",
      "8633.57\n",
      "8633.68\n",
      "8633.59\n",
      "INFO:<ipython-input-87-5296c7c11ff9>:55:parse_results: Reading /Users/ioannis/research/projects/desi/spectro/sim/desi2/bricks/sim01-008-000/truth-brick-b-sim01-008-000.fits\n"
     ]
    },
    {
     "name": "stderr",
     "output_type": "stream",
     "text": [
      "INFO:DESI:Reading /Users/ioannis/research/projects/desi/spectro/sim/desi2/bricks/sim01-008-000/truth-brick-b-sim01-008-000.fits\n"
     ]
    },
    {
     "name": "stdout",
     "output_type": "stream",
     "text": [
      "INFO:<ipython-input-87-5296c7c11ff9>:82:parse_results: Reading /Users/ioannis/research/projects/desi/spectro/sim/desi2/bricks/sim01-008-000/brick-b-sim01-008-000.fits\n"
     ]
    },
    {
     "name": "stderr",
     "output_type": "stream",
     "text": [
      "INFO:DESI:Reading /Users/ioannis/research/projects/desi/spectro/sim/desi2/bricks/sim01-008-000/brick-b-sim01-008-000.fits\n"
     ]
    },
    {
     "name": "stdout",
     "output_type": "stream",
     "text": [
      "4760.26\n",
      "4759.01\n",
      "4758.18\n",
      "4758.32\n",
      "4758.6\n",
      "4754.32\n",
      "4756.15\n",
      "4759.12\n",
      "4758.6\n",
      "4758.75\n",
      "INFO:<ipython-input-87-5296c7c11ff9>:82:parse_results: Reading /Users/ioannis/research/projects/desi/spectro/sim/desi2/bricks/sim01-008-000/brick-r-sim01-008-000.fits\n"
     ]
    },
    {
     "name": "stderr",
     "output_type": "stream",
     "text": [
      "INFO:DESI:Reading /Users/ioannis/research/projects/desi/spectro/sim/desi2/bricks/sim01-008-000/brick-r-sim01-008-000.fits\n"
     ]
    },
    {
     "name": "stdout",
     "output_type": "stream",
     "text": [
      "6682.91\n",
      "6682.44\n",
      "6681.87\n",
      "6682.75\n",
      "6682.95\n",
      "6683.46\n",
      "6684.06\n",
      "6682.69\n",
      "6683.49\n",
      "6682.99\n",
      "INFO:<ipython-input-87-5296c7c11ff9>:82:parse_results: Reading /Users/ioannis/research/projects/desi/spectro/sim/desi2/bricks/sim01-008-000/brick-z-sim01-008-000.fits\n"
     ]
    },
    {
     "name": "stderr",
     "output_type": "stream",
     "text": [
      "INFO:DESI:Reading /Users/ioannis/research/projects/desi/spectro/sim/desi2/bricks/sim01-008-000/brick-z-sim01-008-000.fits\n"
     ]
    },
    {
     "name": "stdout",
     "output_type": "stream",
     "text": [
      "8632.8\n",
      "8632.41\n",
      "8633.58\n",
      "8629.93\n",
      "8633.39\n",
      "8632.51\n",
      "8633.02\n",
      "8632.35\n",
      "8633.25\n",
      "8632.68\n",
      "INFO:<ipython-input-87-5296c7c11ff9>:55:parse_results: Reading /Users/ioannis/research/projects/desi/spectro/sim/desi2/bricks/sim01-009-000/truth-brick-b-sim01-009-000.fits\n"
     ]
    },
    {
     "name": "stderr",
     "output_type": "stream",
     "text": [
      "INFO:DESI:Reading /Users/ioannis/research/projects/desi/spectro/sim/desi2/bricks/sim01-009-000/truth-brick-b-sim01-009-000.fits\n"
     ]
    },
    {
     "name": "stdout",
     "output_type": "stream",
     "text": [
      "INFO:<ipython-input-87-5296c7c11ff9>:82:parse_results: Reading /Users/ioannis/research/projects/desi/spectro/sim/desi2/bricks/sim01-009-000/brick-b-sim01-009-000.fits\n"
     ]
    },
    {
     "name": "stderr",
     "output_type": "stream",
     "text": [
      "INFO:DESI:Reading /Users/ioannis/research/projects/desi/spectro/sim/desi2/bricks/sim01-009-000/brick-b-sim01-009-000.fits\n"
     ]
    },
    {
     "name": "stdout",
     "output_type": "stream",
     "text": [
      "4763.09\n",
      "4760.71\n",
      "4758.98\n",
      "4758.15\n",
      "4758.92\n",
      "4757.93\n",
      "4757.96\n",
      "4761.49\n",
      "4758.87\n",
      "4758.18\n",
      "INFO:<ipython-input-87-5296c7c11ff9>:82:parse_results: Reading /Users/ioannis/research/projects/desi/spectro/sim/desi2/bricks/sim01-009-000/brick-r-sim01-009-000.fits\n"
     ]
    },
    {
     "name": "stderr",
     "output_type": "stream",
     "text": [
      "INFO:DESI:Reading /Users/ioannis/research/projects/desi/spectro/sim/desi2/bricks/sim01-009-000/brick-r-sim01-009-000.fits\n"
     ]
    },
    {
     "name": "stdout",
     "output_type": "stream",
     "text": [
      "6684.6\n",
      "6683.34\n",
      "6684.16\n",
      "6683.21\n",
      "6681.35\n",
      "6684.54\n",
      "6683.88\n",
      "6684.66\n",
      "6685.35\n",
      "6682.86\n",
      "INFO:<ipython-input-87-5296c7c11ff9>:82:parse_results: Reading /Users/ioannis/research/projects/desi/spectro/sim/desi2/bricks/sim01-009-000/brick-z-sim01-009-000.fits\n"
     ]
    },
    {
     "name": "stderr",
     "output_type": "stream",
     "text": [
      "INFO:DESI:Reading /Users/ioannis/research/projects/desi/spectro/sim/desi2/bricks/sim01-009-000/brick-z-sim01-009-000.fits\n"
     ]
    },
    {
     "name": "stdout",
     "output_type": "stream",
     "text": [
      "8632.84\n",
      "8633.21\n",
      "8630.31\n",
      "8631.27\n",
      "8630.52\n",
      "8631.99\n",
      "8631.55\n",
      "8631.44\n",
      "8632.08\n",
      "8633.11\n",
      "INFO:<ipython-input-87-5296c7c11ff9>:55:parse_results: Reading /Users/ioannis/research/projects/desi/spectro/sim/desi2/bricks/sim01-010-000/truth-brick-b-sim01-010-000.fits\n"
     ]
    },
    {
     "name": "stderr",
     "output_type": "stream",
     "text": [
      "INFO:DESI:Reading /Users/ioannis/research/projects/desi/spectro/sim/desi2/bricks/sim01-010-000/truth-brick-b-sim01-010-000.fits\n"
     ]
    },
    {
     "name": "stdout",
     "output_type": "stream",
     "text": [
      "INFO:<ipython-input-87-5296c7c11ff9>:82:parse_results: Reading /Users/ioannis/research/projects/desi/spectro/sim/desi2/bricks/sim01-010-000/brick-b-sim01-010-000.fits\n"
     ]
    },
    {
     "name": "stderr",
     "output_type": "stream",
     "text": [
      "INFO:DESI:Reading /Users/ioannis/research/projects/desi/spectro/sim/desi2/bricks/sim01-010-000/brick-b-sim01-010-000.fits\n"
     ]
    },
    {
     "name": "stdout",
     "output_type": "stream",
     "text": [
      "4757.38\n",
      "4762.17\n",
      "4759.31\n",
      "4758.32\n",
      "4761.68\n",
      "4757.93\n",
      "4761.42\n",
      "4760.25\n",
      "4759.28\n",
      "4758.99\n",
      "INFO:<ipython-input-87-5296c7c11ff9>:82:parse_results: Reading /Users/ioannis/research/projects/desi/spectro/sim/desi2/bricks/sim01-010-000/brick-r-sim01-010-000.fits\n"
     ]
    },
    {
     "name": "stderr",
     "output_type": "stream",
     "text": [
      "INFO:DESI:Reading /Users/ioannis/research/projects/desi/spectro/sim/desi2/bricks/sim01-010-000/brick-r-sim01-010-000.fits\n"
     ]
    },
    {
     "name": "stdout",
     "output_type": "stream",
     "text": [
      "6681.93\n",
      "6683.28\n",
      "6684.46\n",
      "6686.68\n",
      "6680.68\n",
      "6679.69\n",
      "6682.04\n",
      "6684.64\n",
      "6682.0\n",
      "6680.42\n",
      "INFO:<ipython-input-87-5296c7c11ff9>:82:parse_results: Reading /Users/ioannis/research/projects/desi/spectro/sim/desi2/bricks/sim01-010-000/brick-z-sim01-010-000.fits\n"
     ]
    },
    {
     "name": "stderr",
     "output_type": "stream",
     "text": [
      "INFO:DESI:Reading /Users/ioannis/research/projects/desi/spectro/sim/desi2/bricks/sim01-010-000/brick-z-sim01-010-000.fits\n"
     ]
    },
    {
     "name": "stdout",
     "output_type": "stream",
     "text": [
      "8630.78\n",
      "8632.68\n",
      "8630.45\n",
      "8629.99\n",
      "8633.53\n",
      "8632.54\n",
      "8634.65\n",
      "8632.3\n",
      "8631.94\n",
      "8632.69\n",
      "INFO:<ipython-input-87-5296c7c11ff9>:55:parse_results: Reading /Users/ioannis/research/projects/desi/spectro/sim/desi2/bricks/sim01-011-000/truth-brick-b-sim01-011-000.fits\n"
     ]
    },
    {
     "name": "stderr",
     "output_type": "stream",
     "text": [
      "INFO:DESI:Reading /Users/ioannis/research/projects/desi/spectro/sim/desi2/bricks/sim01-011-000/truth-brick-b-sim01-011-000.fits\n"
     ]
    },
    {
     "name": "stdout",
     "output_type": "stream",
     "text": [
      "INFO:<ipython-input-87-5296c7c11ff9>:82:parse_results: Reading /Users/ioannis/research/projects/desi/spectro/sim/desi2/bricks/sim01-011-000/brick-b-sim01-011-000.fits\n"
     ]
    },
    {
     "name": "stderr",
     "output_type": "stream",
     "text": [
      "INFO:DESI:Reading /Users/ioannis/research/projects/desi/spectro/sim/desi2/bricks/sim01-011-000/brick-b-sim01-011-000.fits\n"
     ]
    },
    {
     "name": "stdout",
     "output_type": "stream",
     "text": [
      "4761.57\n",
      "4755.9\n",
      "4758.97\n",
      "4760.51\n",
      "4757.02\n",
      "4760.6\n",
      "4760.83\n",
      "4759.59\n",
      "4758.21\n",
      "4760.34\n",
      "INFO:<ipython-input-87-5296c7c11ff9>:82:parse_results: Reading /Users/ioannis/research/projects/desi/spectro/sim/desi2/bricks/sim01-011-000/brick-r-sim01-011-000.fits\n"
     ]
    },
    {
     "name": "stderr",
     "output_type": "stream",
     "text": [
      "INFO:DESI:Reading /Users/ioannis/research/projects/desi/spectro/sim/desi2/bricks/sim01-011-000/brick-r-sim01-011-000.fits\n"
     ]
    },
    {
     "name": "stdout",
     "output_type": "stream",
     "text": [
      "6683.89\n",
      "6683.85\n",
      "6683.25\n",
      "6682.26\n",
      "6682.14\n",
      "6684.37\n",
      "6681.96\n",
      "6685.34\n",
      "6683.06\n",
      "6681.41\n",
      "INFO:<ipython-input-87-5296c7c11ff9>:82:parse_results: Reading /Users/ioannis/research/projects/desi/spectro/sim/desi2/bricks/sim01-011-000/brick-z-sim01-011-000.fits\n"
     ]
    },
    {
     "name": "stderr",
     "output_type": "stream",
     "text": [
      "INFO:DESI:Reading /Users/ioannis/research/projects/desi/spectro/sim/desi2/bricks/sim01-011-000/brick-z-sim01-011-000.fits\n"
     ]
    },
    {
     "name": "stdout",
     "output_type": "stream",
     "text": [
      "8632.46\n",
      "8634.88\n",
      "8634.48\n",
      "8632.84\n",
      "8630.53\n",
      "8632.55\n",
      "8630.64\n",
      "8631.35\n",
      "8634.98\n",
      "8634.74\n",
      "INFO:<ipython-input-87-5296c7c11ff9>:55:parse_results: Reading /Users/ioannis/research/projects/desi/spectro/sim/desi2/bricks/sim01-012-000/truth-brick-b-sim01-012-000.fits\n"
     ]
    },
    {
     "name": "stderr",
     "output_type": "stream",
     "text": [
      "INFO:DESI:Reading /Users/ioannis/research/projects/desi/spectro/sim/desi2/bricks/sim01-012-000/truth-brick-b-sim01-012-000.fits\n"
     ]
    },
    {
     "name": "stdout",
     "output_type": "stream",
     "text": [
      "INFO:<ipython-input-87-5296c7c11ff9>:82:parse_results: Reading /Users/ioannis/research/projects/desi/spectro/sim/desi2/bricks/sim01-012-000/brick-b-sim01-012-000.fits\n"
     ]
    },
    {
     "name": "stderr",
     "output_type": "stream",
     "text": [
      "INFO:DESI:Reading /Users/ioannis/research/projects/desi/spectro/sim/desi2/bricks/sim01-012-000/brick-b-sim01-012-000.fits\n"
     ]
    },
    {
     "name": "stdout",
     "output_type": "stream",
     "text": [
      "4762.48\n",
      "4763.35\n",
      "4759.79\n",
      "4762.13\n",
      "4759.37\n",
      "4761.13\n",
      "4759.19\n",
      "4762.66\n",
      "4762.31\n",
      "4759.16\n",
      "INFO:<ipython-input-87-5296c7c11ff9>:82:parse_results: Reading /Users/ioannis/research/projects/desi/spectro/sim/desi2/bricks/sim01-012-000/brick-r-sim01-012-000.fits\n"
     ]
    },
    {
     "name": "stderr",
     "output_type": "stream",
     "text": [
      "INFO:DESI:Reading /Users/ioannis/research/projects/desi/spectro/sim/desi2/bricks/sim01-012-000/brick-r-sim01-012-000.fits\n"
     ]
    },
    {
     "name": "stdout",
     "output_type": "stream",
     "text": [
      "6682.95\n",
      "6682.85\n",
      "6682.95\n",
      "6682.95\n",
      "6682.95\n",
      "6682.95\n",
      "6682.95\n",
      "6683.05\n",
      "6682.95\n",
      "6682.95\n",
      "INFO:<ipython-input-87-5296c7c11ff9>:82:parse_results: Reading /Users/ioannis/research/projects/desi/spectro/sim/desi2/bricks/sim01-012-000/brick-z-sim01-012-000.fits\n"
     ]
    },
    {
     "name": "stderr",
     "output_type": "stream",
     "text": [
      "INFO:DESI:Reading /Users/ioannis/research/projects/desi/spectro/sim/desi2/bricks/sim01-012-000/brick-z-sim01-012-000.fits\n"
     ]
    },
    {
     "name": "stdout",
     "output_type": "stream",
     "text": [
      "8634.45\n",
      "8634.28\n",
      "8634.14\n",
      "8634.18\n",
      "8633.98\n",
      "8634.33\n",
      "8634.36\n",
      "8634.34\n",
      "8634.45\n",
      "8634.08\n",
      "INFO:<ipython-input-87-5296c7c11ff9>:55:parse_results: Reading /Users/ioannis/research/projects/desi/spectro/sim/desi2/bricks/sim01-013-000/truth-brick-b-sim01-013-000.fits\n"
     ]
    },
    {
     "name": "stderr",
     "output_type": "stream",
     "text": [
      "INFO:DESI:Reading /Users/ioannis/research/projects/desi/spectro/sim/desi2/bricks/sim01-013-000/truth-brick-b-sim01-013-000.fits\n"
     ]
    },
    {
     "name": "stdout",
     "output_type": "stream",
     "text": [
      "INFO:<ipython-input-87-5296c7c11ff9>:82:parse_results: Reading /Users/ioannis/research/projects/desi/spectro/sim/desi2/bricks/sim01-013-000/brick-b-sim01-013-000.fits\n"
     ]
    },
    {
     "name": "stderr",
     "output_type": "stream",
     "text": [
      "INFO:DESI:Reading /Users/ioannis/research/projects/desi/spectro/sim/desi2/bricks/sim01-013-000/brick-b-sim01-013-000.fits\n"
     ]
    },
    {
     "name": "stdout",
     "output_type": "stream",
     "text": [
      "4757.64\n",
      "4756.87\n",
      "4760.64\n",
      "4758.76\n",
      "4761.32\n",
      "4757.83\n",
      "4757.06\n",
      "4758.98\n",
      "4760.16\n",
      "4760.38\n",
      "INFO:<ipython-input-87-5296c7c11ff9>:82:parse_results: Reading /Users/ioannis/research/projects/desi/spectro/sim/desi2/bricks/sim01-013-000/brick-r-sim01-013-000.fits\n"
     ]
    },
    {
     "name": "stderr",
     "output_type": "stream",
     "text": [
      "INFO:DESI:Reading /Users/ioannis/research/projects/desi/spectro/sim/desi2/bricks/sim01-013-000/brick-r-sim01-013-000.fits\n"
     ]
    },
    {
     "name": "stdout",
     "output_type": "stream",
     "text": [
      "6682.77\n",
      "6683.06\n",
      "6682.63\n",
      "6683.52\n",
      "6683.44\n",
      "6683.36\n",
      "6682.86\n",
      "6683.07\n",
      "6683.16\n",
      "6682.88\n",
      "INFO:<ipython-input-87-5296c7c11ff9>:82:parse_results: Reading /Users/ioannis/research/projects/desi/spectro/sim/desi2/bricks/sim01-013-000/brick-z-sim01-013-000.fits\n"
     ]
    },
    {
     "name": "stderr",
     "output_type": "stream",
     "text": [
      "INFO:DESI:Reading /Users/ioannis/research/projects/desi/spectro/sim/desi2/bricks/sim01-013-000/brick-z-sim01-013-000.fits\n"
     ]
    },
    {
     "name": "stdout",
     "output_type": "stream",
     "text": [
      "8634.09\n",
      "8633.71\n",
      "8633.25\n",
      "8633.65\n",
      "8634.0\n",
      "8633.75\n",
      "8633.82\n",
      "8633.9\n",
      "8633.97\n",
      "8633.45\n",
      "INFO:<ipython-input-87-5296c7c11ff9>:55:parse_results: Reading /Users/ioannis/research/projects/desi/spectro/sim/desi2/bricks/sim01-014-000/truth-brick-b-sim01-014-000.fits\n"
     ]
    },
    {
     "name": "stderr",
     "output_type": "stream",
     "text": [
      "INFO:DESI:Reading /Users/ioannis/research/projects/desi/spectro/sim/desi2/bricks/sim01-014-000/truth-brick-b-sim01-014-000.fits\n"
     ]
    },
    {
     "name": "stdout",
     "output_type": "stream",
     "text": [
      "INFO:<ipython-input-87-5296c7c11ff9>:82:parse_results: Reading /Users/ioannis/research/projects/desi/spectro/sim/desi2/bricks/sim01-014-000/brick-b-sim01-014-000.fits\n"
     ]
    },
    {
     "name": "stderr",
     "output_type": "stream",
     "text": [
      "INFO:DESI:Reading /Users/ioannis/research/projects/desi/spectro/sim/desi2/bricks/sim01-014-000/brick-b-sim01-014-000.fits\n"
     ]
    },
    {
     "name": "stdout",
     "output_type": "stream",
     "text": [
      "4759.09\n",
      "4758.27\n",
      "4759.41\n",
      "4759.24\n",
      "4759.14\n",
      "4759.86\n",
      "4757.81\n",
      "4756.47\n",
      "4757.72\n",
      "4760.47\n",
      "INFO:<ipython-input-87-5296c7c11ff9>:82:parse_results: Reading /Users/ioannis/research/projects/desi/spectro/sim/desi2/bricks/sim01-014-000/brick-r-sim01-014-000.fits\n"
     ]
    },
    {
     "name": "stderr",
     "output_type": "stream",
     "text": [
      "INFO:DESI:Reading /Users/ioannis/research/projects/desi/spectro/sim/desi2/bricks/sim01-014-000/brick-r-sim01-014-000.fits\n"
     ]
    },
    {
     "name": "stdout",
     "output_type": "stream",
     "text": [
      "6684.0\n",
      "6682.14\n",
      "6683.07\n",
      "6682.68\n",
      "6683.74\n",
      "6683.86\n",
      "6682.27\n",
      "6682.98\n",
      "6681.98\n",
      "6684.01\n",
      "INFO:<ipython-input-87-5296c7c11ff9>:82:parse_results: Reading /Users/ioannis/research/projects/desi/spectro/sim/desi2/bricks/sim01-014-000/brick-z-sim01-014-000.fits\n"
     ]
    },
    {
     "name": "stderr",
     "output_type": "stream",
     "text": [
      "INFO:DESI:Reading /Users/ioannis/research/projects/desi/spectro/sim/desi2/bricks/sim01-014-000/brick-z-sim01-014-000.fits\n"
     ]
    },
    {
     "name": "stdout",
     "output_type": "stream",
     "text": [
      "8633.47\n",
      "8632.14\n",
      "8633.19\n",
      "8632.04\n",
      "8633.4\n",
      "8632.76\n",
      "8632.67\n",
      "8632.61\n",
      "8632.75\n",
      "8633.21\n",
      "INFO:<ipython-input-87-5296c7c11ff9>:55:parse_results: Reading /Users/ioannis/research/projects/desi/spectro/sim/desi2/bricks/sim01-015-000/truth-brick-b-sim01-015-000.fits\n"
     ]
    },
    {
     "name": "stderr",
     "output_type": "stream",
     "text": [
      "INFO:DESI:Reading /Users/ioannis/research/projects/desi/spectro/sim/desi2/bricks/sim01-015-000/truth-brick-b-sim01-015-000.fits\n"
     ]
    },
    {
     "name": "stdout",
     "output_type": "stream",
     "text": [
      "INFO:<ipython-input-87-5296c7c11ff9>:82:parse_results: Reading /Users/ioannis/research/projects/desi/spectro/sim/desi2/bricks/sim01-015-000/brick-b-sim01-015-000.fits\n"
     ]
    },
    {
     "name": "stderr",
     "output_type": "stream",
     "text": [
      "INFO:DESI:Reading /Users/ioannis/research/projects/desi/spectro/sim/desi2/bricks/sim01-015-000/brick-b-sim01-015-000.fits\n"
     ]
    },
    {
     "name": "stdout",
     "output_type": "stream",
     "text": [
      "4758.77\n",
      "4759.72\n",
      "4762.03\n",
      "4757.64\n",
      "4759.57\n",
      "4756.91\n",
      "4760.23\n",
      "4759.05\n",
      "4759.91\n",
      "4758.31\n",
      "INFO:<ipython-input-87-5296c7c11ff9>:82:parse_results: Reading /Users/ioannis/research/projects/desi/spectro/sim/desi2/bricks/sim01-015-000/brick-r-sim01-015-000.fits\n"
     ]
    },
    {
     "name": "stderr",
     "output_type": "stream",
     "text": [
      "INFO:DESI:Reading /Users/ioannis/research/projects/desi/spectro/sim/desi2/bricks/sim01-015-000/brick-r-sim01-015-000.fits\n"
     ]
    },
    {
     "name": "stdout",
     "output_type": "stream",
     "text": [
      "6684.65\n",
      "6685.74\n",
      "6683.71\n",
      "6684.48\n",
      "6684.52\n",
      "6685.23\n",
      "6685.0\n",
      "6682.63\n",
      "6682.47\n",
      "6684.2\n",
      "INFO:<ipython-input-87-5296c7c11ff9>:82:parse_results: Reading /Users/ioannis/research/projects/desi/spectro/sim/desi2/bricks/sim01-015-000/brick-z-sim01-015-000.fits\n"
     ]
    },
    {
     "name": "stderr",
     "output_type": "stream",
     "text": [
      "INFO:DESI:Reading /Users/ioannis/research/projects/desi/spectro/sim/desi2/bricks/sim01-015-000/brick-z-sim01-015-000.fits\n"
     ]
    },
    {
     "name": "stdout",
     "output_type": "stream",
     "text": [
      "8632.88\n",
      "8631.76\n",
      "8630.51\n",
      "8632.18\n",
      "8630.3\n",
      "8633.67\n",
      "8631.1\n",
      "8630.87\n",
      "8632.31\n",
      "8633.11\n",
      "INFO:<ipython-input-87-5296c7c11ff9>:55:parse_results: Reading /Users/ioannis/research/projects/desi/spectro/sim/desi2/bricks/sim01-016-000/truth-brick-b-sim01-016-000.fits\n"
     ]
    },
    {
     "name": "stderr",
     "output_type": "stream",
     "text": [
      "INFO:DESI:Reading /Users/ioannis/research/projects/desi/spectro/sim/desi2/bricks/sim01-016-000/truth-brick-b-sim01-016-000.fits\n"
     ]
    },
    {
     "name": "stdout",
     "output_type": "stream",
     "text": [
      "INFO:<ipython-input-87-5296c7c11ff9>:82:parse_results: Reading /Users/ioannis/research/projects/desi/spectro/sim/desi2/bricks/sim01-016-000/brick-b-sim01-016-000.fits\n"
     ]
    },
    {
     "name": "stderr",
     "output_type": "stream",
     "text": [
      "INFO:DESI:Reading /Users/ioannis/research/projects/desi/spectro/sim/desi2/bricks/sim01-016-000/brick-b-sim01-016-000.fits\n"
     ]
    },
    {
     "name": "stdout",
     "output_type": "stream",
     "text": [
      "4755.54\n",
      "4758.93\n",
      "4763.0\n",
      "4758.53\n",
      "4761.38\n",
      "4757.24\n",
      "4759.69\n",
      "4758.21\n",
      "4756.11\n",
      "4755.68\n",
      "INFO:<ipython-input-87-5296c7c11ff9>:82:parse_results: Reading /Users/ioannis/research/projects/desi/spectro/sim/desi2/bricks/sim01-016-000/brick-r-sim01-016-000.fits\n"
     ]
    },
    {
     "name": "stderr",
     "output_type": "stream",
     "text": [
      "INFO:DESI:Reading /Users/ioannis/research/projects/desi/spectro/sim/desi2/bricks/sim01-016-000/brick-r-sim01-016-000.fits\n"
     ]
    },
    {
     "name": "stdout",
     "output_type": "stream",
     "text": [
      "6682.54\n",
      "6680.95\n",
      "6683.21\n",
      "6684.28\n",
      "6682.2\n",
      "6682.72\n",
      "6683.87\n",
      "6684.31\n",
      "6683.49\n",
      "6681.07\n",
      "INFO:<ipython-input-87-5296c7c11ff9>:82:parse_results: Reading /Users/ioannis/research/projects/desi/spectro/sim/desi2/bricks/sim01-016-000/brick-z-sim01-016-000.fits\n"
     ]
    },
    {
     "name": "stderr",
     "output_type": "stream",
     "text": [
      "INFO:DESI:Reading /Users/ioannis/research/projects/desi/spectro/sim/desi2/bricks/sim01-016-000/brick-z-sim01-016-000.fits\n"
     ]
    },
    {
     "name": "stdout",
     "output_type": "stream",
     "text": [
      "8630.97\n",
      "8632.82\n",
      "8631.99\n",
      "8631.31\n",
      "8631.06\n",
      "8630.05\n",
      "8632.13\n",
      "8632.67\n",
      "8629.38\n",
      "8632.39\n",
      "INFO:<ipython-input-87-5296c7c11ff9>:55:parse_results: Reading /Users/ioannis/research/projects/desi/spectro/sim/desi2/bricks/sim01-017-000/truth-brick-b-sim01-017-000.fits\n"
     ]
    },
    {
     "name": "stderr",
     "output_type": "stream",
     "text": [
      "INFO:DESI:Reading /Users/ioannis/research/projects/desi/spectro/sim/desi2/bricks/sim01-017-000/truth-brick-b-sim01-017-000.fits\n"
     ]
    },
    {
     "name": "stdout",
     "output_type": "stream",
     "text": [
      "INFO:<ipython-input-87-5296c7c11ff9>:82:parse_results: Reading /Users/ioannis/research/projects/desi/spectro/sim/desi2/bricks/sim01-017-000/brick-b-sim01-017-000.fits\n"
     ]
    },
    {
     "name": "stderr",
     "output_type": "stream",
     "text": [
      "INFO:DESI:Reading /Users/ioannis/research/projects/desi/spectro/sim/desi2/bricks/sim01-017-000/brick-b-sim01-017-000.fits\n"
     ]
    },
    {
     "name": "stdout",
     "output_type": "stream",
     "text": [
      "4755.06\n",
      "4757.9\n",
      "4763.57\n",
      "4759.35\n",
      "4757.37\n",
      "4756.67\n",
      "4753.41\n",
      "4761.4\n",
      "4760.38\n",
      "4757.94\n",
      "INFO:<ipython-input-87-5296c7c11ff9>:82:parse_results: Reading /Users/ioannis/research/projects/desi/spectro/sim/desi2/bricks/sim01-017-000/brick-r-sim01-017-000.fits\n"
     ]
    },
    {
     "name": "stderr",
     "output_type": "stream",
     "text": [
      "INFO:DESI:Reading /Users/ioannis/research/projects/desi/spectro/sim/desi2/bricks/sim01-017-000/brick-r-sim01-017-000.fits\n"
     ]
    },
    {
     "name": "stdout",
     "output_type": "stream",
     "text": [
      "6682.52\n",
      "6685.41\n",
      "6684.51\n",
      "6683.66\n",
      "6683.83\n",
      "6684.38\n",
      "6681.16\n",
      "6685.06\n",
      "6684.41\n",
      "6679.9\n",
      "INFO:<ipython-input-87-5296c7c11ff9>:82:parse_results: Reading /Users/ioannis/research/projects/desi/spectro/sim/desi2/bricks/sim01-017-000/brick-z-sim01-017-000.fits\n"
     ]
    },
    {
     "name": "stderr",
     "output_type": "stream",
     "text": [
      "INFO:DESI:Reading /Users/ioannis/research/projects/desi/spectro/sim/desi2/bricks/sim01-017-000/brick-z-sim01-017-000.fits\n"
     ]
    },
    {
     "name": "stdout",
     "output_type": "stream",
     "text": [
      "8631.53\n",
      "8630.85\n",
      "8632.83\n",
      "8632.05\n",
      "8632.91\n",
      "8631.38\n",
      "8633.18\n",
      "8632.42\n",
      "8633.08\n",
      "8631.66\n",
      "INFO:<ipython-input-87-5296c7c11ff9>:55:parse_results: Reading /Users/ioannis/research/projects/desi/spectro/sim/desi2/bricks/sim01-018-000/truth-brick-b-sim01-018-000.fits\n"
     ]
    },
    {
     "name": "stderr",
     "output_type": "stream",
     "text": [
      "INFO:DESI:Reading /Users/ioannis/research/projects/desi/spectro/sim/desi2/bricks/sim01-018-000/truth-brick-b-sim01-018-000.fits\n"
     ]
    },
    {
     "name": "stdout",
     "output_type": "stream",
     "text": [
      "INFO:<ipython-input-87-5296c7c11ff9>:82:parse_results: Reading /Users/ioannis/research/projects/desi/spectro/sim/desi2/bricks/sim01-018-000/brick-b-sim01-018-000.fits\n"
     ]
    },
    {
     "name": "stderr",
     "output_type": "stream",
     "text": [
      "INFO:DESI:Reading /Users/ioannis/research/projects/desi/spectro/sim/desi2/bricks/sim01-018-000/brick-b-sim01-018-000.fits\n"
     ]
    },
    {
     "name": "stdout",
     "output_type": "stream",
     "text": [
      "4758.89\n",
      "4758.97\n",
      "4761.85\n",
      "4759.2\n",
      "4759.09\n",
      "4759.85\n",
      "4760.43\n",
      "4759.2\n",
      "4759.84\n",
      "4760.38\n",
      "INFO:<ipython-input-87-5296c7c11ff9>:82:parse_results: Reading /Users/ioannis/research/projects/desi/spectro/sim/desi2/bricks/sim01-018-000/brick-r-sim01-018-000.fits\n"
     ]
    },
    {
     "name": "stderr",
     "output_type": "stream",
     "text": [
      "INFO:DESI:Reading /Users/ioannis/research/projects/desi/spectro/sim/desi2/bricks/sim01-018-000/brick-r-sim01-018-000.fits\n"
     ]
    },
    {
     "name": "stdout",
     "output_type": "stream",
     "text": [
      "6682.95\n",
      "6682.95\n",
      "6682.95\n",
      "6682.98\n",
      "6682.95\n",
      "6682.96\n",
      "6682.95\n",
      "6682.95\n",
      "6682.95\n",
      "6682.95\n",
      "INFO:<ipython-input-87-5296c7c11ff9>:82:parse_results: Reading /Users/ioannis/research/projects/desi/spectro/sim/desi2/bricks/sim01-018-000/brick-z-sim01-018-000.fits\n"
     ]
    },
    {
     "name": "stderr",
     "output_type": "stream",
     "text": [
      "INFO:DESI:Reading /Users/ioannis/research/projects/desi/spectro/sim/desi2/bricks/sim01-018-000/brick-z-sim01-018-000.fits\n"
     ]
    },
    {
     "name": "stdout",
     "output_type": "stream",
     "text": [
      "8633.78\n",
      "8633.68\n",
      "8634.45\n",
      "8634.45\n",
      "8634.45\n",
      "8634.45\n",
      "8634.45\n",
      "8634.45\n",
      "8634.34\n",
      "8634.45\n",
      "INFO:<ipython-input-87-5296c7c11ff9>:55:parse_results: Reading /Users/ioannis/research/projects/desi/spectro/sim/desi2/bricks/sim01-019-000/truth-brick-b-sim01-019-000.fits\n"
     ]
    },
    {
     "name": "stderr",
     "output_type": "stream",
     "text": [
      "INFO:DESI:Reading /Users/ioannis/research/projects/desi/spectro/sim/desi2/bricks/sim01-019-000/truth-brick-b-sim01-019-000.fits\n"
     ]
    },
    {
     "name": "stdout",
     "output_type": "stream",
     "text": [
      "INFO:<ipython-input-87-5296c7c11ff9>:82:parse_results: Reading /Users/ioannis/research/projects/desi/spectro/sim/desi2/bricks/sim01-019-000/brick-b-sim01-019-000.fits\n"
     ]
    },
    {
     "name": "stderr",
     "output_type": "stream",
     "text": [
      "INFO:DESI:Reading /Users/ioannis/research/projects/desi/spectro/sim/desi2/bricks/sim01-019-000/brick-b-sim01-019-000.fits\n"
     ]
    },
    {
     "name": "stdout",
     "output_type": "stream",
     "text": [
      "4758.86\n",
      "4758.97\n",
      "4758.2\n",
      "4758.71\n",
      "4758.6\n",
      "4756.82\n",
      "4759.12\n",
      "4758.03\n",
      "4759.8\n",
      "4755.02\n",
      "INFO:<ipython-input-87-5296c7c11ff9>:82:parse_results: Reading /Users/ioannis/research/projects/desi/spectro/sim/desi2/bricks/sim01-019-000/brick-r-sim01-019-000.fits\n"
     ]
    },
    {
     "name": "stderr",
     "output_type": "stream",
     "text": [
      "INFO:DESI:Reading /Users/ioannis/research/projects/desi/spectro/sim/desi2/bricks/sim01-019-000/brick-r-sim01-019-000.fits\n"
     ]
    },
    {
     "name": "stdout",
     "output_type": "stream",
     "text": [
      "6683.05\n",
      "6683.15\n",
      "6683.12\n",
      "6682.96\n",
      "6682.95\n",
      "6682.73\n",
      "6683.05\n",
      "6683.06\n",
      "6683.12\n",
      "6683.07\n",
      "INFO:<ipython-input-87-5296c7c11ff9>:82:parse_results: Reading /Users/ioannis/research/projects/desi/spectro/sim/desi2/bricks/sim01-019-000/brick-z-sim01-019-000.fits\n"
     ]
    },
    {
     "name": "stderr",
     "output_type": "stream",
     "text": [
      "INFO:DESI:Reading /Users/ioannis/research/projects/desi/spectro/sim/desi2/bricks/sim01-019-000/brick-z-sim01-019-000.fits\n"
     ]
    },
    {
     "name": "stdout",
     "output_type": "stream",
     "text": [
      "8633.51\n",
      "8634.31\n",
      "8633.77\n",
      "8633.36\n",
      "8633.15\n",
      "8634.05\n",
      "8633.71\n",
      "8633.95\n",
      "8634.13\n",
      "8634.29\n",
      "INFO:<ipython-input-87-5296c7c11ff9>:55:parse_results: Reading /Users/ioannis/research/projects/desi/spectro/sim/desi2/bricks/sim01-020-000/truth-brick-b-sim01-020-000.fits\n"
     ]
    },
    {
     "name": "stderr",
     "output_type": "stream",
     "text": [
      "INFO:DESI:Reading /Users/ioannis/research/projects/desi/spectro/sim/desi2/bricks/sim01-020-000/truth-brick-b-sim01-020-000.fits\n"
     ]
    },
    {
     "name": "stdout",
     "output_type": "stream",
     "text": [
      "INFO:<ipython-input-87-5296c7c11ff9>:82:parse_results: Reading /Users/ioannis/research/projects/desi/spectro/sim/desi2/bricks/sim01-020-000/brick-b-sim01-020-000.fits\n"
     ]
    },
    {
     "name": "stderr",
     "output_type": "stream",
     "text": [
      "INFO:DESI:Reading /Users/ioannis/research/projects/desi/spectro/sim/desi2/bricks/sim01-020-000/brick-b-sim01-020-000.fits\n"
     ]
    },
    {
     "name": "stdout",
     "output_type": "stream",
     "text": [
      "4757.52\n",
      "4758.57\n",
      "4759.25\n",
      "4757.98\n",
      "4758.88\n",
      "4758.55\n",
      "4758.9\n",
      "4758.4\n",
      "4760.17\n",
      "4758.14\n",
      "INFO:<ipython-input-87-5296c7c11ff9>:82:parse_results: Reading /Users/ioannis/research/projects/desi/spectro/sim/desi2/bricks/sim01-020-000/brick-r-sim01-020-000.fits\n"
     ]
    },
    {
     "name": "stderr",
     "output_type": "stream",
     "text": [
      "INFO:DESI:Reading /Users/ioannis/research/projects/desi/spectro/sim/desi2/bricks/sim01-020-000/brick-r-sim01-020-000.fits\n"
     ]
    },
    {
     "name": "stdout",
     "output_type": "stream",
     "text": [
      "6683.21\n",
      "6683.23\n",
      "6683.15\n",
      "6682.99\n",
      "6683.11\n",
      "6682.58\n",
      "6682.76\n",
      "6682.74\n",
      "6683.96\n",
      "6682.74\n",
      "INFO:<ipython-input-87-5296c7c11ff9>:82:parse_results: Reading /Users/ioannis/research/projects/desi/spectro/sim/desi2/bricks/sim01-020-000/brick-z-sim01-020-000.fits\n"
     ]
    },
    {
     "name": "stderr",
     "output_type": "stream",
     "text": [
      "INFO:DESI:Reading /Users/ioannis/research/projects/desi/spectro/sim/desi2/bricks/sim01-020-000/brick-z-sim01-020-000.fits\n"
     ]
    },
    {
     "name": "stdout",
     "output_type": "stream",
     "text": [
      "8633.96\n",
      "8632.52\n",
      "8632.9\n",
      "8632.88\n",
      "8632.91\n",
      "8632.64\n",
      "8632.16\n",
      "8633.33\n",
      "8632.13\n",
      "8632.28\n",
      "INFO:<ipython-input-87-5296c7c11ff9>:55:parse_results: Reading /Users/ioannis/research/projects/desi/spectro/sim/desi2/bricks/sim01-021-000/truth-brick-b-sim01-021-000.fits\n"
     ]
    },
    {
     "name": "stderr",
     "output_type": "stream",
     "text": [
      "INFO:DESI:Reading /Users/ioannis/research/projects/desi/spectro/sim/desi2/bricks/sim01-021-000/truth-brick-b-sim01-021-000.fits\n"
     ]
    },
    {
     "name": "stdout",
     "output_type": "stream",
     "text": [
      "INFO:<ipython-input-87-5296c7c11ff9>:82:parse_results: Reading /Users/ioannis/research/projects/desi/spectro/sim/desi2/bricks/sim01-021-000/brick-b-sim01-021-000.fits\n"
     ]
    },
    {
     "name": "stderr",
     "output_type": "stream",
     "text": [
      "INFO:DESI:Reading /Users/ioannis/research/projects/desi/spectro/sim/desi2/bricks/sim01-021-000/brick-b-sim01-021-000.fits\n"
     ]
    },
    {
     "name": "stdout",
     "output_type": "stream",
     "text": [
      "4758.23\n",
      "4757.48\n",
      "4758.23\n",
      "4759.64\n",
      "4759.29\n",
      "4756.75\n",
      "4759.82\n",
      "4758.7\n",
      "4759.77\n",
      "4760.03\n",
      "INFO:<ipython-input-87-5296c7c11ff9>:82:parse_results: Reading /Users/ioannis/research/projects/desi/spectro/sim/desi2/bricks/sim01-021-000/brick-r-sim01-021-000.fits\n"
     ]
    },
    {
     "name": "stderr",
     "output_type": "stream",
     "text": [
      "INFO:DESI:Reading /Users/ioannis/research/projects/desi/spectro/sim/desi2/bricks/sim01-021-000/brick-r-sim01-021-000.fits\n"
     ]
    },
    {
     "name": "stdout",
     "output_type": "stream",
     "text": [
      "6685.25\n",
      "6684.34\n",
      "6684.89\n",
      "6684.24\n",
      "6683.78\n",
      "6683.86\n",
      "6683.04\n",
      "6684.68\n",
      "6684.46\n",
      "6683.22\n",
      "INFO:<ipython-input-87-5296c7c11ff9>:82:parse_results: Reading /Users/ioannis/research/projects/desi/spectro/sim/desi2/bricks/sim01-021-000/brick-z-sim01-021-000.fits\n"
     ]
    },
    {
     "name": "stderr",
     "output_type": "stream",
     "text": [
      "INFO:DESI:Reading /Users/ioannis/research/projects/desi/spectro/sim/desi2/bricks/sim01-021-000/brick-z-sim01-021-000.fits\n"
     ]
    },
    {
     "name": "stdout",
     "output_type": "stream",
     "text": [
      "8631.63\n",
      "8632.07\n",
      "8630.68\n",
      "8631.49\n",
      "8631.53\n",
      "8631.11\n",
      "8631.5\n",
      "8631.06\n",
      "8631.57\n",
      "8632.92\n",
      "INFO:<ipython-input-87-5296c7c11ff9>:55:parse_results: Reading /Users/ioannis/research/projects/desi/spectro/sim/desi2/bricks/sim01-022-000/truth-brick-b-sim01-022-000.fits\n"
     ]
    },
    {
     "name": "stderr",
     "output_type": "stream",
     "text": [
      "INFO:DESI:Reading /Users/ioannis/research/projects/desi/spectro/sim/desi2/bricks/sim01-022-000/truth-brick-b-sim01-022-000.fits\n"
     ]
    },
    {
     "name": "stdout",
     "output_type": "stream",
     "text": [
      "INFO:<ipython-input-87-5296c7c11ff9>:82:parse_results: Reading /Users/ioannis/research/projects/desi/spectro/sim/desi2/bricks/sim01-022-000/brick-b-sim01-022-000.fits\n"
     ]
    },
    {
     "name": "stderr",
     "output_type": "stream",
     "text": [
      "INFO:DESI:Reading /Users/ioannis/research/projects/desi/spectro/sim/desi2/bricks/sim01-022-000/brick-b-sim01-022-000.fits\n"
     ]
    },
    {
     "name": "stdout",
     "output_type": "stream",
     "text": [
      "4759.72\n",
      "4759.32\n",
      "4759.81\n",
      "4758.62\n",
      "4761.26\n",
      "4760.96\n",
      "4759.32\n",
      "4756.95\n",
      "4761.13\n",
      "4760.49\n",
      "INFO:<ipython-input-87-5296c7c11ff9>:82:parse_results: Reading /Users/ioannis/research/projects/desi/spectro/sim/desi2/bricks/sim01-022-000/brick-r-sim01-022-000.fits\n"
     ]
    },
    {
     "name": "stderr",
     "output_type": "stream",
     "text": [
      "INFO:DESI:Reading /Users/ioannis/research/projects/desi/spectro/sim/desi2/bricks/sim01-022-000/brick-r-sim01-022-000.fits\n"
     ]
    },
    {
     "name": "stdout",
     "output_type": "stream",
     "text": [
      "6682.3\n",
      "6683.17\n",
      "6684.3\n",
      "6681.84\n",
      "6686.22\n",
      "6682.7\n",
      "6682.47\n",
      "6683.97\n",
      "6682.68\n",
      "6683.0\n",
      "INFO:<ipython-input-87-5296c7c11ff9>:82:parse_results: Reading /Users/ioannis/research/projects/desi/spectro/sim/desi2/bricks/sim01-022-000/brick-z-sim01-022-000.fits\n"
     ]
    },
    {
     "name": "stderr",
     "output_type": "stream",
     "text": [
      "INFO:DESI:Reading /Users/ioannis/research/projects/desi/spectro/sim/desi2/bricks/sim01-022-000/brick-z-sim01-022-000.fits\n"
     ]
    },
    {
     "name": "stdout",
     "output_type": "stream",
     "text": [
      "8632.96\n",
      "8632.14\n",
      "8631.9\n",
      "8630.26\n",
      "8630.31\n",
      "8630.69\n",
      "8630.04\n",
      "8631.43\n",
      "8631.38\n",
      "8630.72\n",
      "INFO:<ipython-input-87-5296c7c11ff9>:55:parse_results: Reading /Users/ioannis/research/projects/desi/spectro/sim/desi2/bricks/sim01-023-000/truth-brick-b-sim01-023-000.fits\n"
     ]
    },
    {
     "name": "stderr",
     "output_type": "stream",
     "text": [
      "INFO:DESI:Reading /Users/ioannis/research/projects/desi/spectro/sim/desi2/bricks/sim01-023-000/truth-brick-b-sim01-023-000.fits\n"
     ]
    },
    {
     "name": "stdout",
     "output_type": "stream",
     "text": [
      "INFO:<ipython-input-87-5296c7c11ff9>:82:parse_results: Reading /Users/ioannis/research/projects/desi/spectro/sim/desi2/bricks/sim01-023-000/brick-b-sim01-023-000.fits\n"
     ]
    },
    {
     "name": "stderr",
     "output_type": "stream",
     "text": [
      "INFO:DESI:Reading /Users/ioannis/research/projects/desi/spectro/sim/desi2/bricks/sim01-023-000/brick-b-sim01-023-000.fits\n"
     ]
    },
    {
     "name": "stdout",
     "output_type": "stream",
     "text": [
      "4754.87\n",
      "4761.84\n",
      "4757.31\n",
      "4756.5\n",
      "4756.87\n",
      "4755.44\n",
      "4757.81\n",
      "4758.74\n",
      "4757.34\n",
      "4757.74\n",
      "INFO:<ipython-input-87-5296c7c11ff9>:82:parse_results: Reading /Users/ioannis/research/projects/desi/spectro/sim/desi2/bricks/sim01-023-000/brick-r-sim01-023-000.fits\n"
     ]
    },
    {
     "name": "stderr",
     "output_type": "stream",
     "text": [
      "INFO:DESI:Reading /Users/ioannis/research/projects/desi/spectro/sim/desi2/bricks/sim01-023-000/brick-r-sim01-023-000.fits\n"
     ]
    },
    {
     "name": "stdout",
     "output_type": "stream",
     "text": [
      "6685.05\n",
      "6683.31\n",
      "6684.33\n",
      "6684.49\n",
      "6680.47\n",
      "6683.34\n",
      "6682.81\n",
      "6684.3\n",
      "6684.55\n",
      "6682.93\n",
      "INFO:<ipython-input-87-5296c7c11ff9>:82:parse_results: Reading /Users/ioannis/research/projects/desi/spectro/sim/desi2/bricks/sim01-023-000/brick-z-sim01-023-000.fits\n"
     ]
    },
    {
     "name": "stderr",
     "output_type": "stream",
     "text": [
      "INFO:DESI:Reading /Users/ioannis/research/projects/desi/spectro/sim/desi2/bricks/sim01-023-000/brick-z-sim01-023-000.fits\n"
     ]
    },
    {
     "name": "stdout",
     "output_type": "stream",
     "text": [
      "8631.81\n",
      "8631.64\n",
      "8630.92\n",
      "8633.94\n",
      "8632.41\n",
      "8632.17\n",
      "8631.76\n",
      "8632.15\n",
      "8629.68\n",
      "8630.56\n",
      "INFO:<ipython-input-87-5296c7c11ff9>:55:parse_results: Reading /Users/ioannis/research/projects/desi/spectro/sim/desi2/bricks/sim01-024-000/truth-brick-b-sim01-024-000.fits\n"
     ]
    },
    {
     "name": "stderr",
     "output_type": "stream",
     "text": [
      "INFO:DESI:Reading /Users/ioannis/research/projects/desi/spectro/sim/desi2/bricks/sim01-024-000/truth-brick-b-sim01-024-000.fits\n"
     ]
    },
    {
     "name": "stdout",
     "output_type": "stream",
     "text": [
      "INFO:<ipython-input-87-5296c7c11ff9>:82:parse_results: Reading /Users/ioannis/research/projects/desi/spectro/sim/desi2/bricks/sim01-024-000/brick-b-sim01-024-000.fits\n"
     ]
    },
    {
     "name": "stderr",
     "output_type": "stream",
     "text": [
      "INFO:DESI:Reading /Users/ioannis/research/projects/desi/spectro/sim/desi2/bricks/sim01-024-000/brick-b-sim01-024-000.fits\n"
     ]
    },
    {
     "name": "stdout",
     "output_type": "stream",
     "text": [
      "4759.62\n",
      "4758.95\n",
      "4760.64\n",
      "4758.95\n",
      "4760.44\n",
      "4760.26\n",
      "4762.48\n",
      "4759.46\n",
      "4760.67\n",
      "4758.95\n",
      "INFO:<ipython-input-87-5296c7c11ff9>:82:parse_results: Reading /Users/ioannis/research/projects/desi/spectro/sim/desi2/bricks/sim01-024-000/brick-r-sim01-024-000.fits\n"
     ]
    },
    {
     "name": "stderr",
     "output_type": "stream",
     "text": [
      "INFO:DESI:Reading /Users/ioannis/research/projects/desi/spectro/sim/desi2/bricks/sim01-024-000/brick-r-sim01-024-000.fits\n"
     ]
    },
    {
     "name": "stdout",
     "output_type": "stream",
     "text": [
      "6682.95\n",
      "6682.95\n",
      "6682.95\n",
      "6682.95\n",
      "6682.95\n",
      "6682.95\n",
      "6682.95\n",
      "6682.95\n",
      "6682.95\n",
      "6682.95\n",
      "INFO:<ipython-input-87-5296c7c11ff9>:82:parse_results: Reading /Users/ioannis/research/projects/desi/spectro/sim/desi2/bricks/sim01-024-000/brick-z-sim01-024-000.fits\n"
     ]
    },
    {
     "name": "stderr",
     "output_type": "stream",
     "text": [
      "INFO:DESI:Reading /Users/ioannis/research/projects/desi/spectro/sim/desi2/bricks/sim01-024-000/brick-z-sim01-024-000.fits\n"
     ]
    },
    {
     "name": "stdout",
     "output_type": "stream",
     "text": [
      "8634.45\n",
      "8634.45\n",
      "8634.45\n",
      "8634.45\n",
      "8634.33\n",
      "8634.45\n",
      "8634.35\n",
      "8634.45\n",
      "8634.45\n",
      "8634.45\n",
      "INFO:<ipython-input-87-5296c7c11ff9>:55:parse_results: Reading /Users/ioannis/research/projects/desi/spectro/sim/desi2/bricks/sim01-025-000/truth-brick-b-sim01-025-000.fits\n"
     ]
    },
    {
     "name": "stderr",
     "output_type": "stream",
     "text": [
      "INFO:DESI:Reading /Users/ioannis/research/projects/desi/spectro/sim/desi2/bricks/sim01-025-000/truth-brick-b-sim01-025-000.fits\n"
     ]
    },
    {
     "name": "stdout",
     "output_type": "stream",
     "text": [
      "INFO:<ipython-input-87-5296c7c11ff9>:82:parse_results: Reading /Users/ioannis/research/projects/desi/spectro/sim/desi2/bricks/sim01-025-000/brick-b-sim01-025-000.fits\n"
     ]
    },
    {
     "name": "stderr",
     "output_type": "stream",
     "text": [
      "INFO:DESI:Reading /Users/ioannis/research/projects/desi/spectro/sim/desi2/bricks/sim01-025-000/brick-b-sim01-025-000.fits\n"
     ]
    },
    {
     "name": "stdout",
     "output_type": "stream",
     "text": [
      "4758.28\n",
      "4756.74\n",
      "4758.9\n",
      "4757.04\n",
      "4758.11\n",
      "4759.55\n",
      "4757.75\n",
      "4759.51\n",
      "4758.93\n",
      "4758.09\n",
      "INFO:<ipython-input-87-5296c7c11ff9>:82:parse_results: Reading /Users/ioannis/research/projects/desi/spectro/sim/desi2/bricks/sim01-025-000/brick-r-sim01-025-000.fits\n"
     ]
    },
    {
     "name": "stderr",
     "output_type": "stream",
     "text": [
      "INFO:DESI:Reading /Users/ioannis/research/projects/desi/spectro/sim/desi2/bricks/sim01-025-000/brick-r-sim01-025-000.fits\n"
     ]
    },
    {
     "name": "stdout",
     "output_type": "stream",
     "text": [
      "6682.95\n",
      "6683.06\n",
      "6683.17\n",
      "6682.97\n",
      "6682.92\n",
      "6682.95\n",
      "6682.96\n",
      "6682.97\n",
      "6683.18\n",
      "6683.17\n",
      "INFO:<ipython-input-87-5296c7c11ff9>:82:parse_results: Reading /Users/ioannis/research/projects/desi/spectro/sim/desi2/bricks/sim01-025-000/brick-z-sim01-025-000.fits\n"
     ]
    },
    {
     "name": "stderr",
     "output_type": "stream",
     "text": [
      "INFO:DESI:Reading /Users/ioannis/research/projects/desi/spectro/sim/desi2/bricks/sim01-025-000/brick-z-sim01-025-000.fits\n"
     ]
    },
    {
     "name": "stdout",
     "output_type": "stream",
     "text": [
      "8634.26\n",
      "8634.12\n",
      "8634.28\n",
      "8634.36\n",
      "8633.75\n",
      "8634.17\n",
      "8634.45\n",
      "8634.45\n",
      "8633.37\n",
      "8633.87\n",
      "INFO:<ipython-input-87-5296c7c11ff9>:55:parse_results: Reading /Users/ioannis/research/projects/desi/spectro/sim/desi2/bricks/sim01-026-000/truth-brick-b-sim01-026-000.fits\n"
     ]
    },
    {
     "name": "stderr",
     "output_type": "stream",
     "text": [
      "INFO:DESI:Reading /Users/ioannis/research/projects/desi/spectro/sim/desi2/bricks/sim01-026-000/truth-brick-b-sim01-026-000.fits\n"
     ]
    },
    {
     "name": "stdout",
     "output_type": "stream",
     "text": [
      "INFO:<ipython-input-87-5296c7c11ff9>:82:parse_results: Reading /Users/ioannis/research/projects/desi/spectro/sim/desi2/bricks/sim01-026-000/brick-b-sim01-026-000.fits\n"
     ]
    },
    {
     "name": "stderr",
     "output_type": "stream",
     "text": [
      "INFO:DESI:Reading /Users/ioannis/research/projects/desi/spectro/sim/desi2/bricks/sim01-026-000/brick-b-sim01-026-000.fits\n"
     ]
    },
    {
     "name": "stdout",
     "output_type": "stream",
     "text": [
      "4757.93\n",
      "4760.26\n",
      "4758.87\n",
      "4757.69\n",
      "4758.27\n",
      "4758.42\n",
      "4756.15\n",
      "4756.07\n",
      "4757.9\n",
      "4755.68\n",
      "INFO:<ipython-input-87-5296c7c11ff9>:82:parse_results: Reading /Users/ioannis/research/projects/desi/spectro/sim/desi2/bricks/sim01-026-000/brick-r-sim01-026-000.fits\n"
     ]
    },
    {
     "name": "stderr",
     "output_type": "stream",
     "text": [
      "INFO:DESI:Reading /Users/ioannis/research/projects/desi/spectro/sim/desi2/bricks/sim01-026-000/brick-r-sim01-026-000.fits\n"
     ]
    },
    {
     "name": "stdout",
     "output_type": "stream",
     "text": [
      "6683.07\n",
      "6683.21\n",
      "6683.0\n",
      "6682.97\n",
      "6683.21\n",
      "6682.94\n",
      "6682.56\n",
      "6682.86\n",
      "6682.95\n",
      "6682.81\n",
      "INFO:<ipython-input-87-5296c7c11ff9>:82:parse_results: Reading /Users/ioannis/research/projects/desi/spectro/sim/desi2/bricks/sim01-026-000/brick-z-sim01-026-000.fits\n"
     ]
    },
    {
     "name": "stderr",
     "output_type": "stream",
     "text": [
      "INFO:DESI:Reading /Users/ioannis/research/projects/desi/spectro/sim/desi2/bricks/sim01-026-000/brick-z-sim01-026-000.fits\n"
     ]
    },
    {
     "name": "stdout",
     "output_type": "stream",
     "text": [
      "8633.8\n",
      "8633.65\n",
      "8633.26\n",
      "8633.68\n",
      "8634.17\n",
      "8632.86\n",
      "8633.35\n",
      "8633.21\n",
      "8632.82\n",
      "8632.96\n",
      "INFO:<ipython-input-87-5296c7c11ff9>:55:parse_results: Reading /Users/ioannis/research/projects/desi/spectro/sim/desi2/bricks/sim01-027-000/truth-brick-b-sim01-027-000.fits\n"
     ]
    },
    {
     "name": "stderr",
     "output_type": "stream",
     "text": [
      "INFO:DESI:Reading /Users/ioannis/research/projects/desi/spectro/sim/desi2/bricks/sim01-027-000/truth-brick-b-sim01-027-000.fits\n"
     ]
    },
    {
     "name": "stdout",
     "output_type": "stream",
     "text": [
      "INFO:<ipython-input-87-5296c7c11ff9>:82:parse_results: Reading /Users/ioannis/research/projects/desi/spectro/sim/desi2/bricks/sim01-027-000/brick-b-sim01-027-000.fits\n"
     ]
    },
    {
     "name": "stderr",
     "output_type": "stream",
     "text": [
      "INFO:DESI:Reading /Users/ioannis/research/projects/desi/spectro/sim/desi2/bricks/sim01-027-000/brick-b-sim01-027-000.fits\n"
     ]
    },
    {
     "name": "stdout",
     "output_type": "stream",
     "text": [
      "4761.79\n",
      "4755.3\n",
      "4757.81\n",
      "4757.84\n",
      "4759.47\n",
      "4758.27\n",
      "4760.76\n",
      "4757.01\n",
      "4760.11\n",
      "4756.7\n",
      "INFO:<ipython-input-87-5296c7c11ff9>:82:parse_results: Reading /Users/ioannis/research/projects/desi/spectro/sim/desi2/bricks/sim01-027-000/brick-r-sim01-027-000.fits\n"
     ]
    },
    {
     "name": "stderr",
     "output_type": "stream",
     "text": [
      "INFO:DESI:Reading /Users/ioannis/research/projects/desi/spectro/sim/desi2/bricks/sim01-027-000/brick-r-sim01-027-000.fits\n"
     ]
    },
    {
     "name": "stdout",
     "output_type": "stream",
     "text": [
      "6683.35\n",
      "6683.67\n",
      "6683.74\n",
      "6684.18\n",
      "6684.06\n",
      "6683.76\n",
      "6683.78\n",
      "6683.61\n",
      "6683.86\n",
      "6684.4\n",
      "INFO:<ipython-input-87-5296c7c11ff9>:82:parse_results: Reading /Users/ioannis/research/projects/desi/spectro/sim/desi2/bricks/sim01-027-000/brick-z-sim01-027-000.fits\n"
     ]
    },
    {
     "name": "stderr",
     "output_type": "stream",
     "text": [
      "INFO:DESI:Reading /Users/ioannis/research/projects/desi/spectro/sim/desi2/bricks/sim01-027-000/brick-z-sim01-027-000.fits\n"
     ]
    },
    {
     "name": "stdout",
     "output_type": "stream",
     "text": [
      "8631.64\n",
      "8632.92\n",
      "8631.67\n",
      "8632.32\n",
      "8632.82\n",
      "8632.37\n",
      "8630.86\n",
      "8631.06\n",
      "8632.27\n",
      "8633.58\n",
      "INFO:<ipython-input-87-5296c7c11ff9>:55:parse_results: Reading /Users/ioannis/research/projects/desi/spectro/sim/desi2/bricks/sim01-028-000/truth-brick-b-sim01-028-000.fits\n"
     ]
    },
    {
     "name": "stderr",
     "output_type": "stream",
     "text": [
      "INFO:DESI:Reading /Users/ioannis/research/projects/desi/spectro/sim/desi2/bricks/sim01-028-000/truth-brick-b-sim01-028-000.fits\n"
     ]
    },
    {
     "name": "stdout",
     "output_type": "stream",
     "text": [
      "INFO:<ipython-input-87-5296c7c11ff9>:82:parse_results: Reading /Users/ioannis/research/projects/desi/spectro/sim/desi2/bricks/sim01-028-000/brick-b-sim01-028-000.fits\n"
     ]
    },
    {
     "name": "stderr",
     "output_type": "stream",
     "text": [
      "INFO:DESI:Reading /Users/ioannis/research/projects/desi/spectro/sim/desi2/bricks/sim01-028-000/brick-b-sim01-028-000.fits\n"
     ]
    },
    {
     "name": "stdout",
     "output_type": "stream",
     "text": [
      "4761.59\n",
      "4760.11\n",
      "4759.63\n",
      "4759.25\n",
      "4756.8\n",
      "4759.02\n",
      "4758.05\n",
      "4760.95\n",
      "4761.04\n",
      "4756.99\n",
      "INFO:<ipython-input-87-5296c7c11ff9>:82:parse_results: Reading /Users/ioannis/research/projects/desi/spectro/sim/desi2/bricks/sim01-028-000/brick-r-sim01-028-000.fits\n"
     ]
    },
    {
     "name": "stderr",
     "output_type": "stream",
     "text": [
      "INFO:DESI:Reading /Users/ioannis/research/projects/desi/spectro/sim/desi2/bricks/sim01-028-000/brick-r-sim01-028-000.fits\n"
     ]
    },
    {
     "name": "stdout",
     "output_type": "stream",
     "text": [
      "6684.36\n",
      "6682.93\n",
      "6682.71\n",
      "6681.82\n",
      "6682.82\n",
      "6682.02\n",
      "6682.87\n",
      "6682.97\n",
      "6681.52\n",
      "6684.79\n",
      "INFO:<ipython-input-87-5296c7c11ff9>:82:parse_results: Reading /Users/ioannis/research/projects/desi/spectro/sim/desi2/bricks/sim01-028-000/brick-z-sim01-028-000.fits\n"
     ]
    },
    {
     "name": "stderr",
     "output_type": "stream",
     "text": [
      "INFO:DESI:Reading /Users/ioannis/research/projects/desi/spectro/sim/desi2/bricks/sim01-028-000/brick-z-sim01-028-000.fits\n"
     ]
    },
    {
     "name": "stdout",
     "output_type": "stream",
     "text": [
      "8631.39\n",
      "8631.74\n",
      "8631.7\n",
      "8629.28\n",
      "8632.03\n",
      "8632.27\n",
      "8631.35\n",
      "8632.55\n",
      "8632.0\n",
      "8630.05\n",
      "INFO:<ipython-input-87-5296c7c11ff9>:55:parse_results: Reading /Users/ioannis/research/projects/desi/spectro/sim/desi2/bricks/sim01-029-000/truth-brick-b-sim01-029-000.fits\n"
     ]
    },
    {
     "name": "stderr",
     "output_type": "stream",
     "text": [
      "INFO:DESI:Reading /Users/ioannis/research/projects/desi/spectro/sim/desi2/bricks/sim01-029-000/truth-brick-b-sim01-029-000.fits\n"
     ]
    },
    {
     "name": "stdout",
     "output_type": "stream",
     "text": [
      "INFO:<ipython-input-87-5296c7c11ff9>:82:parse_results: Reading /Users/ioannis/research/projects/desi/spectro/sim/desi2/bricks/sim01-029-000/brick-b-sim01-029-000.fits\n"
     ]
    },
    {
     "name": "stderr",
     "output_type": "stream",
     "text": [
      "INFO:DESI:Reading /Users/ioannis/research/projects/desi/spectro/sim/desi2/bricks/sim01-029-000/brick-b-sim01-029-000.fits\n"
     ]
    },
    {
     "name": "stdout",
     "output_type": "stream",
     "text": [
      "4758.86\n",
      "4762.99\n",
      "4759.5\n",
      "4756.35\n",
      "4761.45\n",
      "4756.93\n",
      "4756.65\n",
      "4758.52\n",
      "4760.72\n",
      "4755.3\n",
      "INFO:<ipython-input-87-5296c7c11ff9>:82:parse_results: Reading /Users/ioannis/research/projects/desi/spectro/sim/desi2/bricks/sim01-029-000/brick-r-sim01-029-000.fits\n"
     ]
    },
    {
     "name": "stderr",
     "output_type": "stream",
     "text": [
      "INFO:DESI:Reading /Users/ioannis/research/projects/desi/spectro/sim/desi2/bricks/sim01-029-000/brick-r-sim01-029-000.fits\n"
     ]
    },
    {
     "name": "stdout",
     "output_type": "stream",
     "text": [
      "6683.29\n",
      "6681.41\n",
      "6682.78\n",
      "6683.35\n",
      "6681.78\n",
      "6682.91\n",
      "6683.94\n",
      "6682.0\n",
      "6682.94\n",
      "6684.35\n",
      "INFO:<ipython-input-87-5296c7c11ff9>:82:parse_results: Reading /Users/ioannis/research/projects/desi/spectro/sim/desi2/bricks/sim01-029-000/brick-z-sim01-029-000.fits\n"
     ]
    },
    {
     "name": "stderr",
     "output_type": "stream",
     "text": [
      "INFO:DESI:Reading /Users/ioannis/research/projects/desi/spectro/sim/desi2/bricks/sim01-029-000/brick-z-sim01-029-000.fits\n"
     ]
    },
    {
     "name": "stdout",
     "output_type": "stream",
     "text": [
      "8628.64\n",
      "8631.82\n",
      "8633.0\n",
      "8632.7\n",
      "8632.4\n",
      "8632.13\n",
      "8631.16\n",
      "8632.08\n",
      "8631.72\n",
      "8632.58\n",
      "INFO:<ipython-input-87-5296c7c11ff9>:55:parse_results: Reading /Users/ioannis/research/projects/desi/spectro/sim/desi2/bricks/sim01-030-000/truth-brick-b-sim01-030-000.fits\n"
     ]
    },
    {
     "name": "stderr",
     "output_type": "stream",
     "text": [
      "INFO:DESI:Reading /Users/ioannis/research/projects/desi/spectro/sim/desi2/bricks/sim01-030-000/truth-brick-b-sim01-030-000.fits\n"
     ]
    },
    {
     "name": "stdout",
     "output_type": "stream",
     "text": [
      "INFO:<ipython-input-87-5296c7c11ff9>:82:parse_results: Reading /Users/ioannis/research/projects/desi/spectro/sim/desi2/bricks/sim01-030-000/brick-b-sim01-030-000.fits\n"
     ]
    },
    {
     "name": "stderr",
     "output_type": "stream",
     "text": [
      "INFO:DESI:Reading /Users/ioannis/research/projects/desi/spectro/sim/desi2/bricks/sim01-030-000/brick-b-sim01-030-000.fits\n"
     ]
    },
    {
     "name": "stdout",
     "output_type": "stream",
     "text": [
      "4758.88\n",
      "4760.62\n",
      "4761.73\n",
      "4758.95\n",
      "4760.05\n",
      "4761.44\n",
      "4759.46\n",
      "4760.95\n",
      "4758.95\n",
      "4758.93\n",
      "INFO:<ipython-input-87-5296c7c11ff9>:82:parse_results: Reading /Users/ioannis/research/projects/desi/spectro/sim/desi2/bricks/sim01-030-000/brick-r-sim01-030-000.fits\n"
     ]
    },
    {
     "name": "stderr",
     "output_type": "stream",
     "text": [
      "INFO:DESI:Reading /Users/ioannis/research/projects/desi/spectro/sim/desi2/bricks/sim01-030-000/brick-r-sim01-030-000.fits\n"
     ]
    },
    {
     "name": "stdout",
     "output_type": "stream",
     "text": [
      "6682.95\n",
      "6682.95\n",
      "6682.95\n",
      "6682.95\n",
      "6682.95\n",
      "6682.95\n",
      "6682.95\n",
      "6682.95\n",
      "6682.95\n",
      "6682.95\n",
      "INFO:<ipython-input-87-5296c7c11ff9>:82:parse_results: Reading /Users/ioannis/research/projects/desi/spectro/sim/desi2/bricks/sim01-030-000/brick-z-sim01-030-000.fits\n"
     ]
    },
    {
     "name": "stderr",
     "output_type": "stream",
     "text": [
      "INFO:DESI:Reading /Users/ioannis/research/projects/desi/spectro/sim/desi2/bricks/sim01-030-000/brick-z-sim01-030-000.fits\n"
     ]
    },
    {
     "name": "stdout",
     "output_type": "stream",
     "text": [
      "8634.45\n",
      "8634.45\n",
      "8634.45\n",
      "8634.45\n",
      "8634.45\n",
      "8634.45\n",
      "8634.45\n",
      "8634.45\n",
      "8634.45\n",
      "8634.45\n",
      "INFO:<ipython-input-87-5296c7c11ff9>:55:parse_results: Reading /Users/ioannis/research/projects/desi/spectro/sim/desi2/bricks/sim01-031-000/truth-brick-b-sim01-031-000.fits\n"
     ]
    },
    {
     "name": "stderr",
     "output_type": "stream",
     "text": [
      "INFO:DESI:Reading /Users/ioannis/research/projects/desi/spectro/sim/desi2/bricks/sim01-031-000/truth-brick-b-sim01-031-000.fits\n"
     ]
    },
    {
     "name": "stdout",
     "output_type": "stream",
     "text": [
      "INFO:<ipython-input-87-5296c7c11ff9>:82:parse_results: Reading /Users/ioannis/research/projects/desi/spectro/sim/desi2/bricks/sim01-031-000/brick-b-sim01-031-000.fits\n"
     ]
    },
    {
     "name": "stderr",
     "output_type": "stream",
     "text": [
      "INFO:DESI:Reading /Users/ioannis/research/projects/desi/spectro/sim/desi2/bricks/sim01-031-000/brick-b-sim01-031-000.fits\n"
     ]
    },
    {
     "name": "stdout",
     "output_type": "stream",
     "text": [
      "4756.83\n",
      "4759.1\n",
      "4758.15\n",
      "4758.89\n",
      "4756.95\n",
      "4757.83\n",
      "4758.15\n",
      "4756.56\n",
      "4758.95\n",
      "4758.83\n",
      "INFO:<ipython-input-87-5296c7c11ff9>:82:parse_results: Reading /Users/ioannis/research/projects/desi/spectro/sim/desi2/bricks/sim01-031-000/brick-r-sim01-031-000.fits\n"
     ]
    },
    {
     "name": "stderr",
     "output_type": "stream",
     "text": [
      "INFO:DESI:Reading /Users/ioannis/research/projects/desi/spectro/sim/desi2/bricks/sim01-031-000/brick-r-sim01-031-000.fits\n"
     ]
    },
    {
     "name": "stdout",
     "output_type": "stream",
     "text": [
      "6682.97\n",
      "6683.05\n",
      "6682.95\n",
      "6682.95\n",
      "6682.95\n",
      "6682.95\n",
      "6682.95\n",
      "6683.05\n",
      "6682.95\n",
      "6682.95\n",
      "INFO:<ipython-input-87-5296c7c11ff9>:82:parse_results: Reading /Users/ioannis/research/projects/desi/spectro/sim/desi2/bricks/sim01-031-000/brick-z-sim01-031-000.fits\n"
     ]
    },
    {
     "name": "stderr",
     "output_type": "stream",
     "text": [
      "INFO:DESI:Reading /Users/ioannis/research/projects/desi/spectro/sim/desi2/bricks/sim01-031-000/brick-z-sim01-031-000.fits\n"
     ]
    },
    {
     "name": "stdout",
     "output_type": "stream",
     "text": [
      "8634.45\n",
      "8634.45\n",
      "8634.45\n",
      "8634.49\n",
      "8634.45\n",
      "8634.45\n",
      "8634.45\n",
      "8634.45\n",
      "8633.94\n",
      "8634.45\n",
      "INFO:<ipython-input-87-5296c7c11ff9>:55:parse_results: Reading /Users/ioannis/research/projects/desi/spectro/sim/desi2/bricks/sim01-032-000/truth-brick-b-sim01-032-000.fits\n"
     ]
    },
    {
     "name": "stderr",
     "output_type": "stream",
     "text": [
      "INFO:DESI:Reading /Users/ioannis/research/projects/desi/spectro/sim/desi2/bricks/sim01-032-000/truth-brick-b-sim01-032-000.fits\n"
     ]
    },
    {
     "name": "stdout",
     "output_type": "stream",
     "text": [
      "INFO:<ipython-input-87-5296c7c11ff9>:82:parse_results: Reading /Users/ioannis/research/projects/desi/spectro/sim/desi2/bricks/sim01-032-000/brick-b-sim01-032-000.fits\n"
     ]
    },
    {
     "name": "stderr",
     "output_type": "stream",
     "text": [
      "INFO:DESI:Reading /Users/ioannis/research/projects/desi/spectro/sim/desi2/bricks/sim01-032-000/brick-b-sim01-032-000.fits\n"
     ]
    },
    {
     "name": "stdout",
     "output_type": "stream",
     "text": [
      "4757.17\n",
      "4756.96\n",
      "4757.68\n",
      "4756.37\n",
      "4758.48\n",
      "4759.2\n",
      "4759.36\n",
      "4756.06\n",
      "4758.07\n",
      "4756.28\n",
      "INFO:<ipython-input-87-5296c7c11ff9>:82:parse_results: Reading /Users/ioannis/research/projects/desi/spectro/sim/desi2/bricks/sim01-032-000/brick-r-sim01-032-000.fits\n"
     ]
    },
    {
     "name": "stderr",
     "output_type": "stream",
     "text": [
      "INFO:DESI:Reading /Users/ioannis/research/projects/desi/spectro/sim/desi2/bricks/sim01-032-000/brick-r-sim01-032-000.fits\n"
     ]
    },
    {
     "name": "stdout",
     "output_type": "stream",
     "text": [
      "6683.13\n",
      "6682.8\n",
      "6682.73\n",
      "6683.3\n",
      "6683.05\n",
      "6683.17\n",
      "6682.95\n",
      "6683.19\n",
      "6683.19\n",
      "6683.19\n",
      "INFO:<ipython-input-87-5296c7c11ff9>:82:parse_results: Reading /Users/ioannis/research/projects/desi/spectro/sim/desi2/bricks/sim01-032-000/brick-z-sim01-032-000.fits\n"
     ]
    },
    {
     "name": "stderr",
     "output_type": "stream",
     "text": [
      "INFO:DESI:Reading /Users/ioannis/research/projects/desi/spectro/sim/desi2/bricks/sim01-032-000/brick-z-sim01-032-000.fits\n"
     ]
    },
    {
     "name": "stdout",
     "output_type": "stream",
     "text": [
      "8634.17\n",
      "8634.46\n",
      "8633.53\n",
      "8634.18\n",
      "8634.01\n",
      "8634.14\n",
      "8634.24\n",
      "8634.14\n",
      "8634.06\n",
      "8633.86\n",
      "INFO:<ipython-input-87-5296c7c11ff9>:55:parse_results: Reading /Users/ioannis/research/projects/desi/spectro/sim/desi2/bricks/sim01-033-000/truth-brick-b-sim01-033-000.fits\n"
     ]
    },
    {
     "name": "stderr",
     "output_type": "stream",
     "text": [
      "INFO:DESI:Reading /Users/ioannis/research/projects/desi/spectro/sim/desi2/bricks/sim01-033-000/truth-brick-b-sim01-033-000.fits\n"
     ]
    },
    {
     "name": "stdout",
     "output_type": "stream",
     "text": [
      "INFO:<ipython-input-87-5296c7c11ff9>:82:parse_results: Reading /Users/ioannis/research/projects/desi/spectro/sim/desi2/bricks/sim01-033-000/brick-b-sim01-033-000.fits\n"
     ]
    },
    {
     "name": "stderr",
     "output_type": "stream",
     "text": [
      "INFO:DESI:Reading /Users/ioannis/research/projects/desi/spectro/sim/desi2/bricks/sim01-033-000/brick-b-sim01-033-000.fits\n"
     ]
    },
    {
     "name": "stdout",
     "output_type": "stream",
     "text": [
      "4754.99\n",
      "4759.63\n",
      "4758.62\n",
      "4759.81\n",
      "4758.11\n",
      "4758.24\n",
      "4757.62\n",
      "4758.91\n",
      "4756.8\n",
      "4761.45\n",
      "INFO:<ipython-input-87-5296c7c11ff9>:82:parse_results: Reading /Users/ioannis/research/projects/desi/spectro/sim/desi2/bricks/sim01-033-000/brick-r-sim01-033-000.fits\n"
     ]
    },
    {
     "name": "stderr",
     "output_type": "stream",
     "text": [
      "INFO:DESI:Reading /Users/ioannis/research/projects/desi/spectro/sim/desi2/bricks/sim01-033-000/brick-r-sim01-033-000.fits\n"
     ]
    },
    {
     "name": "stdout",
     "output_type": "stream",
     "text": [
      "6683.38\n",
      "6683.53\n",
      "6683.58\n",
      "6683.67\n",
      "6683.37\n",
      "6682.4\n",
      "6683.24\n",
      "6682.99\n",
      "6684.8\n",
      "6683.6\n",
      "INFO:<ipython-input-87-5296c7c11ff9>:82:parse_results: Reading /Users/ioannis/research/projects/desi/spectro/sim/desi2/bricks/sim01-033-000/brick-z-sim01-033-000.fits\n"
     ]
    },
    {
     "name": "stderr",
     "output_type": "stream",
     "text": [
      "INFO:DESI:Reading /Users/ioannis/research/projects/desi/spectro/sim/desi2/bricks/sim01-033-000/brick-z-sim01-033-000.fits\n"
     ]
    },
    {
     "name": "stdout",
     "output_type": "stream",
     "text": [
      "8633.06\n",
      "8632.85\n",
      "8633.26\n",
      "8632.82\n",
      "8632.0\n",
      "8632.52\n",
      "8633.42\n",
      "8633.47\n",
      "8633.54\n",
      "8633.36\n",
      "INFO:<ipython-input-87-5296c7c11ff9>:55:parse_results: Reading /Users/ioannis/research/projects/desi/spectro/sim/desi2/bricks/sim01-034-000/truth-brick-b-sim01-034-000.fits\n"
     ]
    },
    {
     "name": "stderr",
     "output_type": "stream",
     "text": [
      "INFO:DESI:Reading /Users/ioannis/research/projects/desi/spectro/sim/desi2/bricks/sim01-034-000/truth-brick-b-sim01-034-000.fits\n"
     ]
    },
    {
     "name": "stdout",
     "output_type": "stream",
     "text": [
      "INFO:<ipython-input-87-5296c7c11ff9>:82:parse_results: Reading /Users/ioannis/research/projects/desi/spectro/sim/desi2/bricks/sim01-034-000/brick-b-sim01-034-000.fits\n"
     ]
    },
    {
     "name": "stderr",
     "output_type": "stream",
     "text": [
      "INFO:DESI:Reading /Users/ioannis/research/projects/desi/spectro/sim/desi2/bricks/sim01-034-000/brick-b-sim01-034-000.fits\n"
     ]
    },
    {
     "name": "stdout",
     "output_type": "stream",
     "text": [
      "4757.36\n",
      "4758.0\n",
      "4759.08\n",
      "4756.48\n",
      "4758.27\n",
      "4758.58\n",
      "4757.53\n",
      "4758.03\n",
      "4757.78\n",
      "4759.45\n",
      "INFO:<ipython-input-87-5296c7c11ff9>:82:parse_results: Reading /Users/ioannis/research/projects/desi/spectro/sim/desi2/bricks/sim01-034-000/brick-r-sim01-034-000.fits\n"
     ]
    },
    {
     "name": "stderr",
     "output_type": "stream",
     "text": [
      "INFO:DESI:Reading /Users/ioannis/research/projects/desi/spectro/sim/desi2/bricks/sim01-034-000/brick-r-sim01-034-000.fits\n"
     ]
    },
    {
     "name": "stdout",
     "output_type": "stream",
     "text": [
      "6683.46\n",
      "6682.42\n",
      "6683.93\n",
      "6682.68\n",
      "6683.89\n",
      "6683.02\n",
      "6683.04\n",
      "6683.86\n",
      "6682.3\n",
      "6684.3\n",
      "INFO:<ipython-input-87-5296c7c11ff9>:82:parse_results: Reading /Users/ioannis/research/projects/desi/spectro/sim/desi2/bricks/sim01-034-000/brick-z-sim01-034-000.fits\n"
     ]
    },
    {
     "name": "stderr",
     "output_type": "stream",
     "text": [
      "INFO:DESI:Reading /Users/ioannis/research/projects/desi/spectro/sim/desi2/bricks/sim01-034-000/brick-z-sim01-034-000.fits\n"
     ]
    },
    {
     "name": "stdout",
     "output_type": "stream",
     "text": [
      "8630.59\n",
      "8632.2\n",
      "8632.58\n",
      "8631.74\n",
      "8631.5\n",
      "8632.03\n",
      "8632.23\n",
      "8632.68\n",
      "8632.84\n",
      "8630.58\n",
      "INFO:<ipython-input-87-5296c7c11ff9>:55:parse_results: Reading /Users/ioannis/research/projects/desi/spectro/sim/desi2/bricks/sim01-035-000/truth-brick-b-sim01-035-000.fits\n"
     ]
    },
    {
     "name": "stderr",
     "output_type": "stream",
     "text": [
      "INFO:DESI:Reading /Users/ioannis/research/projects/desi/spectro/sim/desi2/bricks/sim01-035-000/truth-brick-b-sim01-035-000.fits\n"
     ]
    },
    {
     "name": "stdout",
     "output_type": "stream",
     "text": [
      "INFO:<ipython-input-87-5296c7c11ff9>:82:parse_results: Reading /Users/ioannis/research/projects/desi/spectro/sim/desi2/bricks/sim01-035-000/brick-b-sim01-035-000.fits\n"
     ]
    },
    {
     "name": "stderr",
     "output_type": "stream",
     "text": [
      "INFO:DESI:Reading /Users/ioannis/research/projects/desi/spectro/sim/desi2/bricks/sim01-035-000/brick-b-sim01-035-000.fits\n"
     ]
    },
    {
     "name": "stdout",
     "output_type": "stream",
     "text": [
      "4759.13\n",
      "4760.48\n",
      "4761.08\n",
      "4757.54\n",
      "4760.79\n",
      "4757.5\n",
      "4759.02\n",
      "4761.22\n",
      "4757.66\n",
      "4762.77\n",
      "INFO:<ipython-input-87-5296c7c11ff9>:82:parse_results: Reading /Users/ioannis/research/projects/desi/spectro/sim/desi2/bricks/sim01-035-000/brick-r-sim01-035-000.fits\n"
     ]
    },
    {
     "name": "stderr",
     "output_type": "stream",
     "text": [
      "INFO:DESI:Reading /Users/ioannis/research/projects/desi/spectro/sim/desi2/bricks/sim01-035-000/brick-r-sim01-035-000.fits\n"
     ]
    },
    {
     "name": "stdout",
     "output_type": "stream",
     "text": [
      "6682.77\n",
      "6682.25\n",
      "6682.14\n",
      "6683.09\n",
      "6683.18\n",
      "6682.33\n",
      "6681.85\n",
      "6682.74\n",
      "6684.3\n",
      "6684.71\n",
      "INFO:<ipython-input-87-5296c7c11ff9>:82:parse_results: Reading /Users/ioannis/research/projects/desi/spectro/sim/desi2/bricks/sim01-035-000/brick-z-sim01-035-000.fits\n"
     ]
    },
    {
     "name": "stderr",
     "output_type": "stream",
     "text": [
      "INFO:DESI:Reading /Users/ioannis/research/projects/desi/spectro/sim/desi2/bricks/sim01-035-000/brick-z-sim01-035-000.fits\n"
     ]
    },
    {
     "name": "stdout",
     "output_type": "stream",
     "text": [
      "8633.01\n",
      "8629.58\n",
      "8631.09\n",
      "8631.31\n",
      "8630.55\n",
      "8630.63\n",
      "8633.25\n",
      "8630.88\n",
      "8627.92\n",
      "8630.57\n",
      "INFO:<ipython-input-87-5296c7c11ff9>:55:parse_results: Reading /Users/ioannis/research/projects/desi/spectro/sim/desi2/bricks/sim01-036-000/truth-brick-b-sim01-036-000.fits\n"
     ]
    },
    {
     "name": "stderr",
     "output_type": "stream",
     "text": [
      "INFO:DESI:Reading /Users/ioannis/research/projects/desi/spectro/sim/desi2/bricks/sim01-036-000/truth-brick-b-sim01-036-000.fits\n"
     ]
    },
    {
     "name": "stdout",
     "output_type": "stream",
     "text": [
      "INFO:<ipython-input-87-5296c7c11ff9>:82:parse_results: Reading /Users/ioannis/research/projects/desi/spectro/sim/desi2/bricks/sim01-036-000/brick-b-sim01-036-000.fits\n"
     ]
    },
    {
     "name": "stderr",
     "output_type": "stream",
     "text": [
      "INFO:DESI:Reading /Users/ioannis/research/projects/desi/spectro/sim/desi2/bricks/sim01-036-000/brick-b-sim01-036-000.fits\n"
     ]
    },
    {
     "name": "stdout",
     "output_type": "stream",
     "text": [
      "4760.68\n",
      "4758.95\n",
      "4758.95\n",
      "4758.95\n",
      "4758.95\n",
      "4761.57\n",
      "4760.91\n",
      "4759.52\n",
      "4759.42\n",
      "4758.95\n",
      "INFO:<ipython-input-87-5296c7c11ff9>:82:parse_results: Reading /Users/ioannis/research/projects/desi/spectro/sim/desi2/bricks/sim01-036-000/brick-r-sim01-036-000.fits\n"
     ]
    },
    {
     "name": "stderr",
     "output_type": "stream",
     "text": [
      "INFO:DESI:Reading /Users/ioannis/research/projects/desi/spectro/sim/desi2/bricks/sim01-036-000/brick-r-sim01-036-000.fits\n"
     ]
    },
    {
     "name": "stdout",
     "output_type": "stream",
     "text": [
      "6682.95\n",
      "6682.95\n",
      "6682.95\n",
      "6682.95\n",
      "6682.95\n",
      "6682.95\n",
      "6682.95\n",
      "6682.95\n",
      "6682.95\n",
      "6682.95\n",
      "INFO:<ipython-input-87-5296c7c11ff9>:82:parse_results: Reading /Users/ioannis/research/projects/desi/spectro/sim/desi2/bricks/sim01-036-000/brick-z-sim01-036-000.fits\n"
     ]
    },
    {
     "name": "stderr",
     "output_type": "stream",
     "text": [
      "INFO:DESI:Reading /Users/ioannis/research/projects/desi/spectro/sim/desi2/bricks/sim01-036-000/brick-z-sim01-036-000.fits\n"
     ]
    },
    {
     "name": "stdout",
     "output_type": "stream",
     "text": [
      "8634.45\n",
      "8634.45\n",
      "8634.45\n",
      "8634.45\n",
      "8634.45\n",
      "8634.45\n",
      "8634.45\n",
      "8634.45\n",
      "8634.45\n",
      "8634.45\n",
      "INFO:<ipython-input-87-5296c7c11ff9>:55:parse_results: Reading /Users/ioannis/research/projects/desi/spectro/sim/desi2/bricks/sim01-037-000/truth-brick-b-sim01-037-000.fits\n"
     ]
    },
    {
     "name": "stderr",
     "output_type": "stream",
     "text": [
      "INFO:DESI:Reading /Users/ioannis/research/projects/desi/spectro/sim/desi2/bricks/sim01-037-000/truth-brick-b-sim01-037-000.fits\n"
     ]
    },
    {
     "name": "stdout",
     "output_type": "stream",
     "text": [
      "INFO:<ipython-input-87-5296c7c11ff9>:82:parse_results: Reading /Users/ioannis/research/projects/desi/spectro/sim/desi2/bricks/sim01-037-000/brick-b-sim01-037-000.fits\n"
     ]
    },
    {
     "name": "stderr",
     "output_type": "stream",
     "text": [
      "INFO:DESI:Reading /Users/ioannis/research/projects/desi/spectro/sim/desi2/bricks/sim01-037-000/brick-b-sim01-037-000.fits\n"
     ]
    },
    {
     "name": "stdout",
     "output_type": "stream",
     "text": [
      "4758.28\n",
      "4758.78\n",
      "4758.12\n",
      "4758.47\n",
      "4758.3\n",
      "4756.52\n",
      "4755.44\n",
      "4758.92\n",
      "4757.42\n",
      "4757.03\n",
      "INFO:<ipython-input-87-5296c7c11ff9>:82:parse_results: Reading /Users/ioannis/research/projects/desi/spectro/sim/desi2/bricks/sim01-037-000/brick-r-sim01-037-000.fits\n"
     ]
    },
    {
     "name": "stderr",
     "output_type": "stream",
     "text": [
      "INFO:DESI:Reading /Users/ioannis/research/projects/desi/spectro/sim/desi2/bricks/sim01-037-000/brick-r-sim01-037-000.fits\n"
     ]
    },
    {
     "name": "stdout",
     "output_type": "stream",
     "text": [
      "6682.95\n",
      "6682.95\n",
      "6683.05\n",
      "6682.95\n",
      "6682.95\n",
      "6683.01\n",
      "6682.95\n",
      "6683.04\n",
      "6682.95\n",
      "6682.95\n",
      "INFO:<ipython-input-87-5296c7c11ff9>:82:parse_results: Reading /Users/ioannis/research/projects/desi/spectro/sim/desi2/bricks/sim01-037-000/brick-z-sim01-037-000.fits\n"
     ]
    },
    {
     "name": "stderr",
     "output_type": "stream",
     "text": [
      "INFO:DESI:Reading /Users/ioannis/research/projects/desi/spectro/sim/desi2/bricks/sim01-037-000/brick-z-sim01-037-000.fits\n"
     ]
    },
    {
     "name": "stdout",
     "output_type": "stream",
     "text": [
      "8634.45\n",
      "8634.45\n",
      "8634.45\n",
      "8634.45\n",
      "8634.45\n",
      "8634.45\n",
      "8634.45\n",
      "8634.45\n",
      "8634.45\n",
      "8634.45\n",
      "INFO:<ipython-input-87-5296c7c11ff9>:55:parse_results: Reading /Users/ioannis/research/projects/desi/spectro/sim/desi2/bricks/sim01-038-000/truth-brick-b-sim01-038-000.fits\n"
     ]
    },
    {
     "name": "stderr",
     "output_type": "stream",
     "text": [
      "INFO:DESI:Reading /Users/ioannis/research/projects/desi/spectro/sim/desi2/bricks/sim01-038-000/truth-brick-b-sim01-038-000.fits\n"
     ]
    },
    {
     "name": "stdout",
     "output_type": "stream",
     "text": [
      "INFO:<ipython-input-87-5296c7c11ff9>:82:parse_results: Reading /Users/ioannis/research/projects/desi/spectro/sim/desi2/bricks/sim01-038-000/brick-b-sim01-038-000.fits\n"
     ]
    },
    {
     "name": "stderr",
     "output_type": "stream",
     "text": [
      "INFO:DESI:Reading /Users/ioannis/research/projects/desi/spectro/sim/desi2/bricks/sim01-038-000/brick-b-sim01-038-000.fits\n"
     ]
    },
    {
     "name": "stdout",
     "output_type": "stream",
     "text": [
      "4758.37\n",
      "4757.45\n",
      "4758.64\n",
      "4759.5\n",
      "4758.31\n",
      "4757.66\n",
      "4757.67\n",
      "4756.25\n",
      "4757.98\n",
      "4756.41\n",
      "INFO:<ipython-input-87-5296c7c11ff9>:82:parse_results: Reading /Users/ioannis/research/projects/desi/spectro/sim/desi2/bricks/sim01-038-000/brick-r-sim01-038-000.fits\n"
     ]
    },
    {
     "name": "stderr",
     "output_type": "stream",
     "text": [
      "INFO:DESI:Reading /Users/ioannis/research/projects/desi/spectro/sim/desi2/bricks/sim01-038-000/brick-r-sim01-038-000.fits\n"
     ]
    },
    {
     "name": "stdout",
     "output_type": "stream",
     "text": [
      "6682.95\n",
      "6682.97\n",
      "6683.25\n",
      "6682.94\n",
      "6682.95\n",
      "6682.97\n",
      "6682.97\n",
      "6683.02\n",
      "6683.06\n",
      "6683.05\n",
      "INFO:<ipython-input-87-5296c7c11ff9>:82:parse_results: Reading /Users/ioannis/research/projects/desi/spectro/sim/desi2/bricks/sim01-038-000/brick-z-sim01-038-000.fits\n"
     ]
    },
    {
     "name": "stderr",
     "output_type": "stream",
     "text": [
      "INFO:DESI:Reading /Users/ioannis/research/projects/desi/spectro/sim/desi2/bricks/sim01-038-000/brick-z-sim01-038-000.fits\n"
     ]
    },
    {
     "name": "stdout",
     "output_type": "stream",
     "text": [
      "8634.22\n",
      "8634.45\n",
      "8633.95\n",
      "8633.69\n",
      "8634.05\n",
      "8634.1\n",
      "8634.14\n",
      "8634.1\n",
      "8634.18\n",
      "8633.97\n",
      "INFO:<ipython-input-87-5296c7c11ff9>:55:parse_results: Reading /Users/ioannis/research/projects/desi/spectro/sim/desi2/bricks/sim01-039-000/truth-brick-b-sim01-039-000.fits\n"
     ]
    },
    {
     "name": "stderr",
     "output_type": "stream",
     "text": [
      "INFO:DESI:Reading /Users/ioannis/research/projects/desi/spectro/sim/desi2/bricks/sim01-039-000/truth-brick-b-sim01-039-000.fits\n"
     ]
    },
    {
     "name": "stdout",
     "output_type": "stream",
     "text": [
      "INFO:<ipython-input-87-5296c7c11ff9>:82:parse_results: Reading /Users/ioannis/research/projects/desi/spectro/sim/desi2/bricks/sim01-039-000/brick-b-sim01-039-000.fits\n"
     ]
    },
    {
     "name": "stderr",
     "output_type": "stream",
     "text": [
      "INFO:DESI:Reading /Users/ioannis/research/projects/desi/spectro/sim/desi2/bricks/sim01-039-000/brick-b-sim01-039-000.fits\n"
     ]
    },
    {
     "name": "stdout",
     "output_type": "stream",
     "text": [
      "4760.57\n",
      "4758.7\n",
      "4758.75\n",
      "4758.95\n",
      "4760.04\n",
      "4756.75\n",
      "4759.19\n",
      "4755.48\n",
      "4760.12\n",
      "4759.11\n",
      "INFO:<ipython-input-87-5296c7c11ff9>:82:parse_results: Reading /Users/ioannis/research/projects/desi/spectro/sim/desi2/bricks/sim01-039-000/brick-r-sim01-039-000.fits\n"
     ]
    },
    {
     "name": "stderr",
     "output_type": "stream",
     "text": [
      "INFO:DESI:Reading /Users/ioannis/research/projects/desi/spectro/sim/desi2/bricks/sim01-039-000/brick-r-sim01-039-000.fits\n"
     ]
    },
    {
     "name": "stdout",
     "output_type": "stream",
     "text": [
      "6683.47\n",
      "6682.92\n",
      "6682.52\n",
      "6683.63\n",
      "6682.65\n",
      "6683.31\n",
      "6682.62\n",
      "6683.32\n",
      "6683.29\n",
      "6683.33\n",
      "INFO:<ipython-input-87-5296c7c11ff9>:82:parse_results: Reading /Users/ioannis/research/projects/desi/spectro/sim/desi2/bricks/sim01-039-000/brick-z-sim01-039-000.fits\n"
     ]
    },
    {
     "name": "stderr",
     "output_type": "stream",
     "text": [
      "INFO:DESI:Reading /Users/ioannis/research/projects/desi/spectro/sim/desi2/bricks/sim01-039-000/brick-z-sim01-039-000.fits\n"
     ]
    },
    {
     "name": "stdout",
     "output_type": "stream",
     "text": [
      "8632.47\n",
      "8633.18\n",
      "8634.27\n",
      "8632.91\n",
      "8633.71\n",
      "8633.67\n",
      "8633.3\n",
      "8633.69\n",
      "8632.54\n",
      "8633.65\n",
      "INFO:<ipython-input-87-5296c7c11ff9>:55:parse_results: Reading /Users/ioannis/research/projects/desi/spectro/sim/desi2/bricks/sim01-040-000/truth-brick-b-sim01-040-000.fits\n"
     ]
    },
    {
     "name": "stderr",
     "output_type": "stream",
     "text": [
      "INFO:DESI:Reading /Users/ioannis/research/projects/desi/spectro/sim/desi2/bricks/sim01-040-000/truth-brick-b-sim01-040-000.fits\n"
     ]
    },
    {
     "name": "stdout",
     "output_type": "stream",
     "text": [
      "INFO:<ipython-input-87-5296c7c11ff9>:82:parse_results: Reading /Users/ioannis/research/projects/desi/spectro/sim/desi2/bricks/sim01-040-000/brick-b-sim01-040-000.fits\n"
     ]
    },
    {
     "name": "stderr",
     "output_type": "stream",
     "text": [
      "INFO:DESI:Reading /Users/ioannis/research/projects/desi/spectro/sim/desi2/bricks/sim01-040-000/brick-b-sim01-040-000.fits\n"
     ]
    },
    {
     "name": "stdout",
     "output_type": "stream",
     "text": [
      "4755.59\n",
      "4759.35\n",
      "4758.55\n",
      "4758.62\n",
      "4761.78\n",
      "4759.77\n",
      "4757.48\n",
      "4756.56\n",
      "4758.61\n",
      "4759.55\n",
      "INFO:<ipython-input-87-5296c7c11ff9>:82:parse_results: Reading /Users/ioannis/research/projects/desi/spectro/sim/desi2/bricks/sim01-040-000/brick-r-sim01-040-000.fits\n"
     ]
    },
    {
     "name": "stderr",
     "output_type": "stream",
     "text": [
      "INFO:DESI:Reading /Users/ioannis/research/projects/desi/spectro/sim/desi2/bricks/sim01-040-000/brick-r-sim01-040-000.fits\n"
     ]
    },
    {
     "name": "stdout",
     "output_type": "stream",
     "text": [
      "6683.71\n",
      "6681.72\n",
      "6683.04\n",
      "6682.81\n",
      "6683.53\n",
      "6681.86\n",
      "6683.36\n",
      "6682.71\n",
      "6683.35\n",
      "6683.3\n",
      "INFO:<ipython-input-87-5296c7c11ff9>:82:parse_results: Reading /Users/ioannis/research/projects/desi/spectro/sim/desi2/bricks/sim01-040-000/brick-z-sim01-040-000.fits\n"
     ]
    },
    {
     "name": "stderr",
     "output_type": "stream",
     "text": [
      "INFO:DESI:Reading /Users/ioannis/research/projects/desi/spectro/sim/desi2/bricks/sim01-040-000/brick-z-sim01-040-000.fits\n"
     ]
    },
    {
     "name": "stdout",
     "output_type": "stream",
     "text": [
      "8632.56\n",
      "8631.66\n",
      "8632.05\n",
      "8632.07\n",
      "8631.93\n",
      "8633.67\n",
      "8630.93\n",
      "8632.27\n",
      "8633.69\n",
      "8631.25\n",
      "INFO:<ipython-input-87-5296c7c11ff9>:55:parse_results: Reading /Users/ioannis/research/projects/desi/spectro/sim/desi2/bricks/sim01-041-000/truth-brick-b-sim01-041-000.fits\n"
     ]
    },
    {
     "name": "stderr",
     "output_type": "stream",
     "text": [
      "INFO:DESI:Reading /Users/ioannis/research/projects/desi/spectro/sim/desi2/bricks/sim01-041-000/truth-brick-b-sim01-041-000.fits\n"
     ]
    },
    {
     "name": "stdout",
     "output_type": "stream",
     "text": [
      "INFO:<ipython-input-87-5296c7c11ff9>:82:parse_results: Reading /Users/ioannis/research/projects/desi/spectro/sim/desi2/bricks/sim01-041-000/brick-b-sim01-041-000.fits\n"
     ]
    },
    {
     "name": "stderr",
     "output_type": "stream",
     "text": [
      "INFO:DESI:Reading /Users/ioannis/research/projects/desi/spectro/sim/desi2/bricks/sim01-041-000/brick-b-sim01-041-000.fits\n"
     ]
    },
    {
     "name": "stdout",
     "output_type": "stream",
     "text": [
      "4761.57\n",
      "4754.83\n",
      "4755.4\n",
      "4757.4\n",
      "4757.72\n",
      "4759.5\n",
      "4761.13\n",
      "4757.91\n",
      "4757.14\n",
      "4762.2\n",
      "INFO:<ipython-input-87-5296c7c11ff9>:82:parse_results: Reading /Users/ioannis/research/projects/desi/spectro/sim/desi2/bricks/sim01-041-000/brick-r-sim01-041-000.fits\n"
     ]
    },
    {
     "name": "stderr",
     "output_type": "stream",
     "text": [
      "INFO:DESI:Reading /Users/ioannis/research/projects/desi/spectro/sim/desi2/bricks/sim01-041-000/brick-r-sim01-041-000.fits\n"
     ]
    },
    {
     "name": "stdout",
     "output_type": "stream",
     "text": [
      "6682.93\n",
      "6684.82\n",
      "6683.14\n",
      "6682.8\n",
      "6684.0\n",
      "6684.69\n",
      "6684.07\n",
      "6685.18\n",
      "6683.14\n",
      "6682.39\n",
      "INFO:<ipython-input-87-5296c7c11ff9>:82:parse_results: Reading /Users/ioannis/research/projects/desi/spectro/sim/desi2/bricks/sim01-041-000/brick-z-sim01-041-000.fits\n"
     ]
    },
    {
     "name": "stderr",
     "output_type": "stream",
     "text": [
      "INFO:DESI:Reading /Users/ioannis/research/projects/desi/spectro/sim/desi2/bricks/sim01-041-000/brick-z-sim01-041-000.fits\n"
     ]
    },
    {
     "name": "stdout",
     "output_type": "stream",
     "text": [
      "8631.29\n",
      "8632.39\n",
      "8631.82\n",
      "8631.27\n",
      "8631.46\n",
      "8630.12\n",
      "8629.66\n",
      "8631.43\n",
      "8630.44\n",
      "8633.38\n",
      "INFO:<ipython-input-87-5296c7c11ff9>:55:parse_results: Reading /Users/ioannis/research/projects/desi/spectro/sim/desi2/bricks/sim01-042-000/truth-brick-b-sim01-042-000.fits\n"
     ]
    },
    {
     "name": "stderr",
     "output_type": "stream",
     "text": [
      "INFO:DESI:Reading /Users/ioannis/research/projects/desi/spectro/sim/desi2/bricks/sim01-042-000/truth-brick-b-sim01-042-000.fits\n"
     ]
    },
    {
     "name": "stdout",
     "output_type": "stream",
     "text": [
      "INFO:<ipython-input-87-5296c7c11ff9>:82:parse_results: Reading /Users/ioannis/research/projects/desi/spectro/sim/desi2/bricks/sim01-042-000/brick-b-sim01-042-000.fits\n"
     ]
    },
    {
     "name": "stderr",
     "output_type": "stream",
     "text": [
      "INFO:DESI:Reading /Users/ioannis/research/projects/desi/spectro/sim/desi2/bricks/sim01-042-000/brick-b-sim01-042-000.fits\n"
     ]
    },
    {
     "name": "stdout",
     "output_type": "stream",
     "text": [
      "4758.95\n",
      "4759.69\n",
      "4759.72\n",
      "4760.15\n",
      "4758.95\n",
      "4758.95\n",
      "4759.19\n",
      "4759.17\n",
      "4758.95\n",
      "4758.95\n",
      "INFO:<ipython-input-87-5296c7c11ff9>:82:parse_results: Reading /Users/ioannis/research/projects/desi/spectro/sim/desi2/bricks/sim01-042-000/brick-r-sim01-042-000.fits\n"
     ]
    },
    {
     "name": "stderr",
     "output_type": "stream",
     "text": [
      "INFO:DESI:Reading /Users/ioannis/research/projects/desi/spectro/sim/desi2/bricks/sim01-042-000/brick-r-sim01-042-000.fits\n"
     ]
    },
    {
     "name": "stdout",
     "output_type": "stream",
     "text": [
      "6682.95\n",
      "6682.95\n",
      "6682.95\n",
      "6682.95\n",
      "6682.95\n",
      "6682.95\n",
      "6682.95\n",
      "6682.95\n",
      "6682.95\n",
      "6682.95\n",
      "INFO:<ipython-input-87-5296c7c11ff9>:82:parse_results: Reading /Users/ioannis/research/projects/desi/spectro/sim/desi2/bricks/sim01-042-000/brick-z-sim01-042-000.fits\n"
     ]
    },
    {
     "name": "stderr",
     "output_type": "stream",
     "text": [
      "INFO:DESI:Reading /Users/ioannis/research/projects/desi/spectro/sim/desi2/bricks/sim01-042-000/brick-z-sim01-042-000.fits\n"
     ]
    },
    {
     "name": "stdout",
     "output_type": "stream",
     "text": [
      "8634.45\n",
      "8634.45\n",
      "8634.45\n",
      "8634.45\n",
      "8634.45\n",
      "8634.45\n",
      "8634.45\n",
      "8634.45\n",
      "8634.45\n",
      "8634.45\n",
      "INFO:<ipython-input-87-5296c7c11ff9>:55:parse_results: Reading /Users/ioannis/research/projects/desi/spectro/sim/desi2/bricks/sim01-043-000/truth-brick-b-sim01-043-000.fits\n"
     ]
    },
    {
     "name": "stderr",
     "output_type": "stream",
     "text": [
      "INFO:DESI:Reading /Users/ioannis/research/projects/desi/spectro/sim/desi2/bricks/sim01-043-000/truth-brick-b-sim01-043-000.fits\n"
     ]
    },
    {
     "name": "stdout",
     "output_type": "stream",
     "text": [
      "INFO:<ipython-input-87-5296c7c11ff9>:82:parse_results: Reading /Users/ioannis/research/projects/desi/spectro/sim/desi2/bricks/sim01-043-000/brick-b-sim01-043-000.fits\n"
     ]
    },
    {
     "name": "stderr",
     "output_type": "stream",
     "text": [
      "INFO:DESI:Reading /Users/ioannis/research/projects/desi/spectro/sim/desi2/bricks/sim01-043-000/brick-b-sim01-043-000.fits\n"
     ]
    },
    {
     "name": "stdout",
     "output_type": "stream",
     "text": [
      "4759.0\n",
      "4757.46\n",
      "4757.76\n",
      "4759.0\n",
      "4758.95\n",
      "4758.83\n",
      "4758.46\n",
      "4758.86\n",
      "4756.58\n",
      "4757.74\n",
      "INFO:<ipython-input-87-5296c7c11ff9>:82:parse_results: Reading /Users/ioannis/research/projects/desi/spectro/sim/desi2/bricks/sim01-043-000/brick-r-sim01-043-000.fits\n"
     ]
    },
    {
     "name": "stderr",
     "output_type": "stream",
     "text": [
      "INFO:DESI:Reading /Users/ioannis/research/projects/desi/spectro/sim/desi2/bricks/sim01-043-000/brick-r-sim01-043-000.fits\n"
     ]
    },
    {
     "name": "stdout",
     "output_type": "stream",
     "text": [
      "6682.95\n",
      "6682.95\n",
      "6682.95\n",
      "6683.05\n",
      "6682.95\n",
      "6683.05\n",
      "6682.95\n",
      "6682.95\n",
      "6682.95\n",
      "6682.95\n",
      "INFO:<ipython-input-87-5296c7c11ff9>:82:parse_results: Reading /Users/ioannis/research/projects/desi/spectro/sim/desi2/bricks/sim01-043-000/brick-z-sim01-043-000.fits\n"
     ]
    },
    {
     "name": "stderr",
     "output_type": "stream",
     "text": [
      "INFO:DESI:Reading /Users/ioannis/research/projects/desi/spectro/sim/desi2/bricks/sim01-043-000/brick-z-sim01-043-000.fits\n"
     ]
    },
    {
     "name": "stdout",
     "output_type": "stream",
     "text": [
      "8634.45\n",
      "8634.45\n",
      "8634.45\n",
      "8634.33\n",
      "8634.45\n",
      "8634.45\n",
      "8634.45\n",
      "8634.45\n",
      "8634.45\n",
      "8634.45\n",
      "INFO:<ipython-input-87-5296c7c11ff9>:55:parse_results: Reading /Users/ioannis/research/projects/desi/spectro/sim/desi2/bricks/sim01-044-000/truth-brick-b-sim01-044-000.fits\n"
     ]
    },
    {
     "name": "stderr",
     "output_type": "stream",
     "text": [
      "INFO:DESI:Reading /Users/ioannis/research/projects/desi/spectro/sim/desi2/bricks/sim01-044-000/truth-brick-b-sim01-044-000.fits\n"
     ]
    },
    {
     "name": "stdout",
     "output_type": "stream",
     "text": [
      "INFO:<ipython-input-87-5296c7c11ff9>:82:parse_results: Reading /Users/ioannis/research/projects/desi/spectro/sim/desi2/bricks/sim01-044-000/brick-b-sim01-044-000.fits\n"
     ]
    },
    {
     "name": "stderr",
     "output_type": "stream",
     "text": [
      "INFO:DESI:Reading /Users/ioannis/research/projects/desi/spectro/sim/desi2/bricks/sim01-044-000/brick-b-sim01-044-000.fits\n"
     ]
    },
    {
     "name": "stdout",
     "output_type": "stream",
     "text": [
      "4756.36\n",
      "4758.7\n",
      "4757.38\n",
      "4758.96\n",
      "4758.65\n",
      "4759.27\n",
      "4757.88\n",
      "4757.28\n",
      "4756.23\n",
      "4758.37\n",
      "INFO:<ipython-input-87-5296c7c11ff9>:82:parse_results: Reading /Users/ioannis/research/projects/desi/spectro/sim/desi2/bricks/sim01-044-000/brick-r-sim01-044-000.fits\n"
     ]
    },
    {
     "name": "stderr",
     "output_type": "stream",
     "text": [
      "INFO:DESI:Reading /Users/ioannis/research/projects/desi/spectro/sim/desi2/bricks/sim01-044-000/brick-r-sim01-044-000.fits\n"
     ]
    },
    {
     "name": "stdout",
     "output_type": "stream",
     "text": [
      "6682.95\n",
      "6683.15\n",
      "6682.95\n",
      "6682.95\n",
      "6682.95\n",
      "6682.97\n",
      "6683.05\n",
      "6683.15\n",
      "6683.07\n",
      "6683.15\n",
      "INFO:<ipython-input-87-5296c7c11ff9>:82:parse_results: Reading /Users/ioannis/research/projects/desi/spectro/sim/desi2/bricks/sim01-044-000/brick-z-sim01-044-000.fits\n"
     ]
    },
    {
     "name": "stderr",
     "output_type": "stream",
     "text": [
      "INFO:DESI:Reading /Users/ioannis/research/projects/desi/spectro/sim/desi2/bricks/sim01-044-000/brick-z-sim01-044-000.fits\n"
     ]
    },
    {
     "name": "stdout",
     "output_type": "stream",
     "text": [
      "8634.45\n",
      "8634.01\n",
      "8634.2\n",
      "8634.45\n",
      "8634.45\n",
      "8634.24\n",
      "8634.45\n",
      "8634.45\n",
      "8634.36\n",
      "8634.31\n",
      "INFO:<ipython-input-87-5296c7c11ff9>:55:parse_results: Reading /Users/ioannis/research/projects/desi/spectro/sim/desi2/bricks/sim01-045-000/truth-brick-b-sim01-045-000.fits\n"
     ]
    },
    {
     "name": "stderr",
     "output_type": "stream",
     "text": [
      "INFO:DESI:Reading /Users/ioannis/research/projects/desi/spectro/sim/desi2/bricks/sim01-045-000/truth-brick-b-sim01-045-000.fits\n"
     ]
    },
    {
     "name": "stdout",
     "output_type": "stream",
     "text": [
      "INFO:<ipython-input-87-5296c7c11ff9>:82:parse_results: Reading /Users/ioannis/research/projects/desi/spectro/sim/desi2/bricks/sim01-045-000/brick-b-sim01-045-000.fits\n"
     ]
    },
    {
     "name": "stderr",
     "output_type": "stream",
     "text": [
      "INFO:DESI:Reading /Users/ioannis/research/projects/desi/spectro/sim/desi2/bricks/sim01-045-000/brick-b-sim01-045-000.fits\n"
     ]
    },
    {
     "name": "stdout",
     "output_type": "stream",
     "text": [
      "4757.78\n",
      "4758.94\n",
      "4760.03\n",
      "4757.48\n",
      "4759.72\n",
      "4759.29\n",
      "4758.43\n",
      "4760.46\n",
      "4758.16\n",
      "4758.57\n",
      "INFO:<ipython-input-87-5296c7c11ff9>:82:parse_results: Reading /Users/ioannis/research/projects/desi/spectro/sim/desi2/bricks/sim01-045-000/brick-r-sim01-045-000.fits\n"
     ]
    },
    {
     "name": "stderr",
     "output_type": "stream",
     "text": [
      "INFO:DESI:Reading /Users/ioannis/research/projects/desi/spectro/sim/desi2/bricks/sim01-045-000/brick-r-sim01-045-000.fits\n"
     ]
    },
    {
     "name": "stdout",
     "output_type": "stream",
     "text": [
      "6683.07\n",
      "6683.41\n",
      "6682.82\n",
      "6683.05\n",
      "6682.86\n",
      "6683.29\n",
      "6683.22\n",
      "6682.89\n",
      "6683.03\n",
      "6683.43\n",
      "INFO:<ipython-input-87-5296c7c11ff9>:82:parse_results: Reading /Users/ioannis/research/projects/desi/spectro/sim/desi2/bricks/sim01-045-000/brick-z-sim01-045-000.fits\n"
     ]
    },
    {
     "name": "stderr",
     "output_type": "stream",
     "text": [
      "INFO:DESI:Reading /Users/ioannis/research/projects/desi/spectro/sim/desi2/bricks/sim01-045-000/brick-z-sim01-045-000.fits\n"
     ]
    },
    {
     "name": "stdout",
     "output_type": "stream",
     "text": [
      "8633.51\n",
      "8634.13\n",
      "8634.15\n",
      "8633.54\n",
      "8634.11\n",
      "8631.88\n",
      "8634.06\n",
      "8633.84\n",
      "8634.17\n",
      "8634.12\n",
      "INFO:<ipython-input-87-5296c7c11ff9>:55:parse_results: Reading /Users/ioannis/research/projects/desi/spectro/sim/desi2/bricks/sim01-046-000/truth-brick-b-sim01-046-000.fits\n"
     ]
    },
    {
     "name": "stderr",
     "output_type": "stream",
     "text": [
      "INFO:DESI:Reading /Users/ioannis/research/projects/desi/spectro/sim/desi2/bricks/sim01-046-000/truth-brick-b-sim01-046-000.fits\n"
     ]
    },
    {
     "name": "stdout",
     "output_type": "stream",
     "text": [
      "INFO:<ipython-input-87-5296c7c11ff9>:82:parse_results: Reading /Users/ioannis/research/projects/desi/spectro/sim/desi2/bricks/sim01-046-000/brick-b-sim01-046-000.fits\n"
     ]
    },
    {
     "name": "stderr",
     "output_type": "stream",
     "text": [
      "INFO:DESI:Reading /Users/ioannis/research/projects/desi/spectro/sim/desi2/bricks/sim01-046-000/brick-b-sim01-046-000.fits\n"
     ]
    },
    {
     "name": "stdout",
     "output_type": "stream",
     "text": [
      "4758.46\n",
      "4757.21\n",
      "4757.73\n",
      "4759.27\n",
      "4758.26\n",
      "4757.85\n",
      "4759.37\n",
      "4757.73\n",
      "4758.28\n",
      "4755.44\n",
      "INFO:<ipython-input-87-5296c7c11ff9>:82:parse_results: Reading /Users/ioannis/research/projects/desi/spectro/sim/desi2/bricks/sim01-046-000/brick-r-sim01-046-000.fits\n"
     ]
    },
    {
     "name": "stderr",
     "output_type": "stream",
     "text": [
      "INFO:DESI:Reading /Users/ioannis/research/projects/desi/spectro/sim/desi2/bricks/sim01-046-000/brick-r-sim01-046-000.fits\n"
     ]
    },
    {
     "name": "stdout",
     "output_type": "stream",
     "text": [
      "6683.22\n",
      "6683.98\n",
      "6683.45\n",
      "6684.07\n",
      "6683.31\n",
      "6683.31\n",
      "6683.62\n",
      "6682.25\n",
      "6683.34\n",
      "6683.64\n",
      "INFO:<ipython-input-87-5296c7c11ff9>:82:parse_results: Reading /Users/ioannis/research/projects/desi/spectro/sim/desi2/bricks/sim01-046-000/brick-z-sim01-046-000.fits\n"
     ]
    },
    {
     "name": "stderr",
     "output_type": "stream",
     "text": [
      "INFO:DESI:Reading /Users/ioannis/research/projects/desi/spectro/sim/desi2/bricks/sim01-046-000/brick-z-sim01-046-000.fits\n"
     ]
    },
    {
     "name": "stdout",
     "output_type": "stream",
     "text": [
      "8632.57\n",
      "8632.33\n",
      "8631.64\n",
      "8632.33\n",
      "8633.94\n",
      "8632.39\n",
      "8633.37\n",
      "8632.66\n",
      "8632.91\n",
      "8633.42\n",
      "INFO:<ipython-input-87-5296c7c11ff9>:55:parse_results: Reading /Users/ioannis/research/projects/desi/spectro/sim/desi2/bricks/sim01-047-000/truth-brick-b-sim01-047-000.fits\n"
     ]
    },
    {
     "name": "stderr",
     "output_type": "stream",
     "text": [
      "INFO:DESI:Reading /Users/ioannis/research/projects/desi/spectro/sim/desi2/bricks/sim01-047-000/truth-brick-b-sim01-047-000.fits\n"
     ]
    },
    {
     "name": "stdout",
     "output_type": "stream",
     "text": [
      "INFO:<ipython-input-87-5296c7c11ff9>:82:parse_results: Reading /Users/ioannis/research/projects/desi/spectro/sim/desi2/bricks/sim01-047-000/brick-b-sim01-047-000.fits\n"
     ]
    },
    {
     "name": "stderr",
     "output_type": "stream",
     "text": [
      "INFO:DESI:Reading /Users/ioannis/research/projects/desi/spectro/sim/desi2/bricks/sim01-047-000/brick-b-sim01-047-000.fits\n"
     ]
    },
    {
     "name": "stdout",
     "output_type": "stream",
     "text": [
      "4756.35\n",
      "4760.84\n",
      "4761.34\n",
      "4758.95\n",
      "4757.37\n",
      "4757.25\n",
      "4760.46\n",
      "4759.11\n",
      "4759.05\n",
      "4759.05\n",
      "INFO:<ipython-input-87-5296c7c11ff9>:82:parse_results: Reading /Users/ioannis/research/projects/desi/spectro/sim/desi2/bricks/sim01-047-000/brick-r-sim01-047-000.fits\n"
     ]
    },
    {
     "name": "stderr",
     "output_type": "stream",
     "text": [
      "INFO:DESI:Reading /Users/ioannis/research/projects/desi/spectro/sim/desi2/bricks/sim01-047-000/brick-r-sim01-047-000.fits\n"
     ]
    },
    {
     "name": "stdout",
     "output_type": "stream",
     "text": [
      "6683.49\n",
      "6682.06\n",
      "6684.08\n",
      "6681.37\n",
      "6682.34\n",
      "6682.5\n",
      "6682.22\n",
      "6683.68\n",
      "6682.88\n",
      "6684.0\n",
      "INFO:<ipython-input-87-5296c7c11ff9>:82:parse_results: Reading /Users/ioannis/research/projects/desi/spectro/sim/desi2/bricks/sim01-047-000/brick-z-sim01-047-000.fits\n"
     ]
    },
    {
     "name": "stderr",
     "output_type": "stream",
     "text": [
      "INFO:DESI:Reading /Users/ioannis/research/projects/desi/spectro/sim/desi2/bricks/sim01-047-000/brick-z-sim01-047-000.fits\n"
     ]
    },
    {
     "name": "stdout",
     "output_type": "stream",
     "text": [
      "8632.2\n",
      "8632.46\n",
      "8632.28\n",
      "8632.0\n",
      "8631.14\n",
      "8631.93\n",
      "8630.8\n",
      "8631.6\n",
      "8632.18\n",
      "8629.28\n",
      "INFO:<ipython-input-87-5296c7c11ff9>:96:parse_results: Writing /Users/ioannis/research/projects/desi/spectro/sim/desi2/sim01-results.fits\n"
     ]
    },
    {
     "name": "stderr",
     "output_type": "stream",
     "text": [
      "INFO:DESI:Writing /Users/ioannis/research/projects/desi/spectro/sim/desi2/sim01-results.fits\n"
     ]
    },
    {
     "name": "stdout",
     "output_type": "stream",
     "text": [
      "INFO:<ipython-input-87-5296c7c11ff9>:99:parse_results: Writing /Users/ioannis/research/projects/desi/spectro/sim/desi2/sim01-avgresults.fits\n"
     ]
    },
    {
     "name": "stderr",
     "output_type": "stream",
     "text": [
      "INFO:DESI:Writing /Users/ioannis/research/projects/desi/spectro/sim/desi2/sim01-avgresults.fits\n"
     ]
    }
   ],
   "source": [
    "# Parse the results.\n",
    "parse_results()"
   ]
  },
  {
   "cell_type": "code",
   "execution_count": 63,
   "metadata": {
    "collapsed": false
   },
   "outputs": [
    {
     "data": {
      "text/plain": [
       "array([ 20. ,  20.5,  21. ,  21.5,  22. ,  22.5], dtype=float32)"
      ]
     },
     "execution_count": 63,
     "metadata": {},
     "output_type": "execute_result"
    }
   ],
   "source": [
    "# Make some plots.\n",
    "avgres = fits.getdata(os.path.join(simsdir, 'sim01-avgresults.fits'), 1)\n",
    "avgres.columns\n",
    "np.unique(avgres['RMAG'])"
   ]
  },
  {
   "cell_type": "code",
   "execution_count": 106,
   "metadata": {
    "collapsed": false
   },
   "outputs": [
    {
     "data": {
      "text/plain": [
       "(4, 61)"
      ]
     },
     "execution_count": 106,
     "metadata": {},
     "output_type": "execute_result"
    },
    {
     "data": {
      "image/png": "[encoded data removed]",
      "text/plain": [
       "<matplotlib.figure.Figure at 0x110d0b990>"
      ]
     },
     "metadata": {},
     "output_type": "display_data"
    }
   ],
   "source": [
    "fig, ax = plt.subplots(1, 1, figsize = (10, 7))\n",
    "for ii, rm in enumerate(np.unique(rmag)):\n",
    "    these = np.where(avgres['RMAG'] == rm)[0]\n",
    "    ax.plot(avgres['EXPTIME'][these]/60, avgres['SNR_R'][these], \n",
    "               marker='s', markersize=10, color=col[ii], label='r<{:.1f}'.format(rm))\n",
    "ax.set_xlabel('Exposure Time (m)', fontsize=20)\n",
    "ax.set_ylabel('Median S/N (pixel$^{-1}$ around 6700 $\\AA$)', fontsize=20)\n",
    "ax.legend(loc='upper left')\n",
    "ax.set_xlim(4, 61)"
   ]
  },
  {
   "cell_type": "code",
   "execution_count": null,
   "metadata": {
    "collapsed": true
   },
   "outputs": [],
   "source": []
  }
 ],
 "metadata": {
  "kernelspec": {
   "display_name": "Python 2",
   "language": "python",
   "name": "python2"
  },
  "language_info": {
   "codemirror_mode": {
    "name": "ipython",
    "version": 2
   },
   "file_extension": ".py",
   "mimetype": "text/x-python",
   "name": "python",
   "nbconvert_exporter": "python",
   "pygments_lexer": "ipython2",
   "version": "2.7.12"
  }
 },
 "nbformat": 4,
 "nbformat_minor": 0
}
