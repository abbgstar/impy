{
 "cells": [
  {
   "cell_type": "markdown",
   "metadata": {},
   "source": [
    "## DESI Throughput\n",
    "\n",
    "The attached figure shows an estimate of the throughput derived from the fiber giving the highest throughput (presumably because closest to its target; this is fiber #307) on exposure #29181. Compared to simulations, we are still missing a factor 2.\n",
    "\n",
    "This is very preliminary. Alternative analyses are more than welcome.\n",
    "The spectra are there:\n",
    "/project/projectdirs/desi/spectro/redux/daily/exposures/20191117/00029181/\n",
    "(look at b3,r3,z3)\n",
    "And the fiberassign file is here :\n",
    "/project/projectdirs/desi/spectro/data/20191116/00028818/fiberassign-063064.fits\n",
    "(several copies of the same file in different exposures)"
   ]
  },
  {
   "cell_type": "code",
   "execution_count": 1,
   "metadata": {},
   "outputs": [],
   "source": [
    "import os\n",
    "import numpy as np"
   ]
  },
  {
   "cell_type": "code",
   "execution_count": 2,
   "metadata": {},
   "outputs": [],
   "source": [
    "import desispec.io\n",
    "import desimodel.io\n",
    "import desimodel.io"
   ]
  },
  {
   "cell_type": "code",
   "execution_count": 3,
   "metadata": {},
   "outputs": [],
   "source": [
    "import matplotlib.pyplot as plt\n",
    "import seaborn as sns\n",
    "\n",
    "sns.set(context='talk', style='ticks', font_scale=1.1)\n",
    "%matplotlib inline"
   ]
  },
  {
   "cell_type": "markdown",
   "metadata": {},
   "source": [
    "#### Find the data"
   ]
  },
  {
   "cell_type": "code",
   "execution_count": 4,
   "metadata": {},
   "outputs": [],
   "source": [
    "datadir = os.getenv('DESI_ROOT')+'/spectro/data'\n",
    "reduxdir = os.getenv('DESI_ROOT')+'/spectro/redux/daily/exposures'"
   ]
  },
  {
   "cell_type": "code",
   "execution_count": 5,
   "metadata": {},
   "outputs": [],
   "source": [
    "bthru = desimodel.io.load_throughput('b')\n",
    "rthru = desimodel.io.load_throughput('r')\n",
    "zthru = desimodel.io.load_throughput('z')"
   ]
  },
  {
   "cell_type": "code",
   "execution_count": 6,
   "metadata": {},
   "outputs": [],
   "source": [
    "night, expid = 20191117, 29181"
   ]
  },
  {
   "cell_type": "code",
   "execution_count": 7,
   "metadata": {},
   "outputs": [],
   "source": [
    "def read_spec(cam='b', specid=3, night=20191117, expid=29181):\n",
    "    strexpid = '{:08d}'.format(expid)\n",
    "    specfile = os.path.join(reduxdir, str(night), strexpid, 'sframe-{}{:d}-{}.fits'.format(\n",
    "        cam, specid, strexpid))\n",
    "    print('Reading {}'.format(specfile))\n",
    "    sr = desispec.io.read_frame(specfile)\n",
    "    return sr"
   ]
  },
  {
   "cell_type": "code",
   "execution_count": 8,
   "metadata": {},
   "outputs": [
    {
     "name": "stdout",
     "output_type": "stream",
     "text": [
      "Reading /global/project/projectdirs/desi/spectro/redux/daily/exposures/20191117/00029181/sframe-b3-00029181.fits\n",
      "Reading /global/project/projectdirs/desi/spectro/redux/daily/exposures/20191117/00029181/sframe-r3-00029181.fits\n",
      "Reading /global/project/projectdirs/desi/spectro/redux/daily/exposures/20191117/00029181/sframe-z3-00029181.fits\n"
     ]
    }
   ],
   "source": [
    "bcam, rcam, zcam = read_spec(cam='b'), read_spec(cam='r'), read_spec(cam='z')"
   ]
  },
  {
   "cell_type": "code",
   "execution_count": 23,
   "metadata": {},
   "outputs": [],
   "source": [
    "def plot_spec(bcam, rcam, zcam, fiberid=307):\n",
    "    fig, ax = plt.subplots()\n",
    "    #ax.plot(bcam.wave, bcam.flux[fiberid, :])\n",
    "    #ax.plot(rcam.wave, rcam.flux[fiberid, :])\n",
    "    #ax.plot(zcam.wave, zcam.flux[fiberid, :])\n",
    "    \n",
    "    ax.plot(bcam.wave, bthru.photons(bcam.wave, bcam.flux[fiberid, :]))"
   ]
  },
  {
   "cell_type": "code",
   "execution_count": 24,
   "metadata": {},
   "outputs": [
    {
     "data": {
      "image/png": "[encoded data removed]",
      "text/plain": [
       "<matplotlib.figure.Figure at 0x2aaae6c4eeb8>"
      ]
     },
     "metadata": {
      "needs_background": "light"
     },
     "output_type": "display_data"
    }
   ],
   "source": [
    "plot_spec(bcam, rcam, zcam, fiberid=307)"
   ]
  },
  {
   "cell_type": "code",
   "execution_count": 57,
   "metadata": {},
   "outputs": [
    {
     "data": {
      "text/plain": [
       "SIMPLE  =                    T / conforms to FITS standard                      \n",
       "BITPIX  =                  -32 / array data type                                \n",
       "NAXIS   =                    2 / number of array dimensions                     \n",
       "NAXIS1  =                 2751                                                  \n",
       "NAXIS2  =                  500                                                  \n",
       "EXTEND  =                    T                                                  \n",
       "EXTNAME = 'FLUX    '                                                            \n",
       "INSTRUME= 'DESI    '           / Instrument name                                \n",
       "PROCTYPE= 'RAW     '           / Data processing level                          \n",
       "PRODTYPE= 'image   '           / Data product type                              \n",
       "PROGRAM = 'Dither tile_id 63064 (0.5,7.5)' / Program name                       \n",
       "EXPID   =                29181 / Exposure number                                \n",
       "EXPFRAME=                    0 / Frame number                                   \n",
       "FILENAME= '/exposures/desi/specs/20191117/00029181/sp4-00029181.fits.fz' / Name \n",
       "FLAVOR  = 'science '           / Observation type                               \n",
       "REQTIME =                  60. / [s] Requested exposure time                    \n",
       "EXPTIME =                  60. / [s] Actual exposure time                       \n",
       "OBSID   = 'kp4m20191118t072516' / Unique observation identifier                 \n",
       "TIMESYS = 'UTC     '           / Time system used for date-obs                  \n",
       "NIGHT   = '20191117'           / Observing night                                \n",
       "DATE-OBS= '2019-11-18T07:25:16.177745' / [UTC] Observation data and start time  \n",
       "TIME-OBS= '07:25:16.177745'    / [UTC] Observation start time                   \n",
       "MJD-OBS =       58805.30921502 / Modified Julian Date of observation            \n",
       "ST      = '03:47:05.170'       / Local Sidereal time at observation start (HH:MM\n",
       "DELTARA =                   0. / [arcsec] Offset], right ascension, observer inp\n",
       "DELTADEC=                   0. / [arcsec] Offset], declination, observer input  \n",
       "SPECGRPH=                    3 / Spectrograph logical name (SP)                 \n",
       "SPECID  =                    6 / Spectrograph serial number (SM)                \n",
       "DETECTOR= 'sn22797 '           / Detector (ccd) identification                  \n",
       "CAMERA  = 'b3      '           / Camera name                                    \n",
       "CCDNAME = 'CCDS3B  '           / CCD name                                       \n",
       "CCDPREP = 'purge,clear'        / CCD prep actions                               \n",
       "CCDSIZE = '4162,4232'          / CCD size in pixels (rows, columns)             \n",
       "CCDTEMP =                 850. / [deg C] CCD controller CCD temperature         \n",
       "CPUTEMP =              56.0097 / [deg C] CCD controller CPU temperature         \n",
       "CASETEMP=              56.2458 / [deg C] CCD controller case temperature        \n",
       "CCDTMING= 'default_sta_timing_20180905.txt' / CCD timing file                   \n",
       "CCDCFG  = 'default_sta_20190717.cfg' / CCD configuration file                   \n",
       "SETTINGS= 'detectors_20190717.json' / Name of DESI CCD settings file            \n",
       "VESSEL  =                   15 / Cryostat serial number                         \n",
       "FEEVER  = 'v20160312'          / CCD Controller version                         \n",
       "FEEBOX  = 'lbnl081 '           / CCD Controller serial number                   \n",
       "PRESECA = '[1:4, 2:2049]'      / Prescan section for quadrant A                 \n",
       "PRRSECA = '[5:2052, 1:1]'      / Row prescan section for quadrant A             \n",
       "DATASECA= '[5:2052, 2:2049]'   / Data section for quadrant A                    \n",
       "TRIMSECA= '[5:2052, 2:2049]'   / Trim section for quadrant A                    \n",
       "BIASSECA= '[2053:2116, 2:2049]' / Bias section for quadrant A                   \n",
       "ORSECA  = '[5:2052, 2050:2081]' / Row overscan section for quadrant A           \n",
       "CCDSECA = '[1:2048, 1:2048]'   / CCD section for quadrant A                     \n",
       "DETSECA = '[1:2048, 1:2048]'   / Detector section for quadrant A                \n",
       "AMPSECA = '[1:2048, 1:2048]'   / AMP section for quadrant A                     \n",
       "PRESECB = '[4229:4232, 2:2049]' / Prescan section for quadrant B                \n",
       "PRRSECB = '[2181:4228, 1:1]'   / Row prescan section for quadrant B             \n",
       "DATASECB= '[2181:4228, 2:2049]' / Data section for quadrant B                   \n",
       "TRIMSECB= '[2181:4228, 2:2049]' / Trim section for quadrant B                   \n",
       "BIASSECB= '[2117:2180, 2:2049]' / Bias section for quadrant B                   \n",
       "ORSECB  = '[2181:4228, 2050:2081]' / Row overscan section for quadrant B        \n",
       "CCDSECB = '[2049:4096, 1:2048]' / CCD section for quadrant B                    \n",
       "DETSECB = '[2049:4096, 1:2048]' / Detector section for quadrant B               \n",
       "AMPSECB = '[2049:4096, 2048:1]' / AMP section for quadrant B                    \n",
       "PRESECC = '[1:4, 2114:4161]'   / Prescan section for quadrant C                 \n",
       "PRRSECC = '[5:2052, 4162:4162]' / Row prescan section for quadrant C            \n",
       "DATASECC= '[5:2052, 2114:4161]' / Data section for quadrant C                   \n",
       "TRIMSECC= '[5:2052, 2114:4161]' / Trim section for quadrant C                   \n",
       "BIASSECC= '[2053:2116, 2114:4161]' / Bias section for quadrant C                \n",
       "ORSECC  = '[5:2052, 2082:2113]' / Row overscan section for quadrant C           \n",
       "CCDSECC = '[1:2048, 2049:4096]' / CCD section for quadrant C                    \n",
       "DETSECC = '[1:2048, 2049:4096]' / Detector section for quadrant C               \n",
       "AMPSECC = '[2048:1, 2049:4096]' / AMP section for quadrant C                    \n",
       "PRESECD = '[4229:4232, 2114:4161]' / Prescan section for quadrant D             \n",
       "PRRSECD = '[2181:4228, 4162:4162]' / Row prescan section for quadrant D         \n",
       "DATASECD= '[2181:4228, 2114:4161]' / Data section for quadrant D                \n",
       "TRIMSECD= '[2181:4228, 2114:4161]' / Trim section for quadrant D                \n",
       "BIASSECD= '[2117:2180, 2114:4161]' / Bias section for quadrant D                \n",
       "ORSECD  = '[2181:4228, 2082:2113]' / Row bias section for quadrant D            \n",
       "CCDSECD = '[2049:4096, 2049:4096]' / CCD section for quadrant D                 \n",
       "DETSECD = '[2049:4096, 2049:4096]' / Detector section for quadrant D            \n",
       "AMPSECD = '[4096:2049, 4096:2049]' / AMP section for quadrant D                 \n",
       "DAC0    = '15.9998,15.965'     / [V] set value, measured value                  \n",
       "DAC1    = '15.9998,15.8105'    / [V] set value, measured value                  \n",
       "DAC2    = '15.9998,15.8105'    / [V] set value, measured value                  \n",
       "DAC3    = '15.9998,15.9547'    / [V] set value, measured value                  \n",
       "DAC4    = '0.0,0.0053'         / [V] set value, measured value                  \n",
       "DAC5    = '0.0,0.0105'         / [V] set value, measured value                  \n",
       "DAC6    = '0.0,0.0158'         / [V] set value, measured value                  \n",
       "DAC7    = '0.0,0.0053'         / [V] set value, measured value                  \n",
       "DAC8    = '26.9998,26.6081'    / [V] set value, measured value                  \n",
       "DAC9    = '26.9998,26.9346'    / [V] set value, measured value                  \n",
       "DAC10   = '26.9998,26.8752'    / [V] set value, measured value                  \n",
       "DAC11   = '26.9998,26.9049'    / [V] set value, measured value                  \n",
       "DAC12   = '4.9997,22.62'       / [V] set value, measured value                  \n",
       "DAC13   = '-5.0006,-4.9816'    / [V] set value, measured value                  \n",
       "DAC14   = '0.0,0.8216'         / [V] set value, measured value                  \n",
       "DAC15   = '19.9997,20.0616'    / [V] set value, measured value                  \n",
       "DAC16   = '0.0,64.9572'        / [V] set value, measured value                  \n",
       "DAC17   = '-0.0,0.0366'        / [V] set value, measured value                  \n",
       "CLOCK0  = '3.9999,-4.0002'     / [V] high rail, low rail                        \n",
       "CLOCK1  = '3.9999,-4.0002'     / [V] high rail, low rail                        \n",
       "CLOCK2  = '3.9999,-4.0002'     / [V] high rail, low rail                        \n",
       "CLOCK3  = '6.9999,-2.0001'     / [V] high rail, low rail                        \n",
       "CLOCK4  = '3.9999,-4.0002'     / [V] high rail, low rail                        \n",
       "CLOCK5  = '3.9999,-4.0002'     / [V] high rail, low rail                        \n",
       "CLOCK6  = '3.9999,-4.0002'     / [V] high rail, low rail                        \n",
       "CLOCK7  = '6.9999,-2.0001'     / [V] high rail, low rail                        \n",
       "CLOCK8  = '3.0,-7.0002'        / [V] high rail, low rail                        \n",
       "CLOCK9  = '3.0,-7.0002'        / [V] high rail, low rail                        \n",
       "CLOCK10 = '3.0,-7.0002'        / [V] high rail, low rail                        \n",
       "CLOCK11 = '0.0,0.0 '           / [V] high rail, low rail                        \n",
       "CLOCK12 = '3.0,-7.0002'        / [V] high rail, low rail                        \n",
       "CLOCK13 = '3.0,-7.0002'        / [V] high rail, low rail                        \n",
       "CLOCK14 = '3.0,-7.0002'        / [V] high rail, low rail                        \n",
       "CLOCK15 = '0.0,0.0 '           / [V] high rail, low rail                        \n",
       "CLOCK16 = '0.0,0.0 '           / [V] high rail, low rail                        \n",
       "CLOCK17 = '3.9999,-4.0002'     / [V] high rail, low rail                        \n",
       "CLOCK18 = '3.9999,-4.0002'     / [V] high rail, low rail                        \n",
       "OFFSET0 = '-1.5,15.9547'       / [V] set value, measured value                  \n",
       "OFFSET1 = '-1.5,15.8311'       / [V] set value, measured value                  \n",
       "OFFSET2 = '-1.5,15.8208'       / [V] set value, measured value                  \n",
       "OFFSET3 = '-1.5,15.965'        / [V] set value, measured value                  \n",
       "OFFSET4 = '-1.100000023841858,0.0053' / [V] set value, measured value           \n",
       "OFFSET5 = '-1.100000023841858,0.0105' / [V] set value, measured value           \n",
       "OFFSET6 = '-1.100000023841858,0.0158' / [V] set value, measured value           \n",
       "OFFSET7 = '-1.100000023841858,0.0105' / [V] set value, measured value           \n",
       "DELAYS  = '13, 13, 25, 25, 8, 3000, 7, 7, 7, 7' / [10] Delay settings           \n",
       "CDSPARMS= '400, 400, 8, 1000'  / CDS parameters                                 \n",
       "PGAGAIN =                    5 / Controller gain                                \n",
       "OCSVER  =                  1.2 / OCS software version                           \n",
       "DOSVER  = 'current '           / DOS software version                           \n",
       "CONSTVER= 'DESI:CURRENT'       / Constants version                              \n",
       "BLDTIME =               0.3495 / [s] Time to build image                        \n",
       "DIGITIME=              46.0835 / [s] Time to digitize image                     \n",
       "CHECKSUM= 'SdAiTaAhSaAhSaAh'   / HDU checksum updated 2019-11-18T00:13:15       \n",
       "DATASUM = '2531195875'         / data unit checksum updated 2019-11-18T00:13:15 \n",
       "OVERSCNA=    1198.787177931188 / ADUs (gain not applied)                        \n",
       "OBSRDNA =    4.094511730689728 / electrons (gain is applied)                    \n",
       "GAINA   =                1.133 / e/ADU (gain applied to image)                  \n",
       "OVERSCNB=    1198.072404983086 / ADUs (gain not applied)                        \n",
       "OBSRDNB =    3.199362629719445 / electrons (gain is applied)                    \n",
       "GAINB   =                1.117 / e/ADU (gain applied to image)                  \n",
       "OVERSCNC=    1190.468828039591 / ADUs (gain not applied)                        \n",
       "OBSRDNC =    3.679787770489328 / electrons (gain is applied)                    \n",
       "GAINC   =                1.122 / e/ADU (gain applied to image)                  \n",
       "OVERSCND=     1180.74669961941 / ADUs (gain not applied)                        \n",
       "OBSRDND =    3.811509408401009 / electrons (gain is applied)                    \n",
       "GAIND   =                1.122 / e/ADU (gain applied to image)                  \n",
       "DEPNAM00= 'python  '                                                            \n",
       "DEPVER00= '3.6.6   '                                                            \n",
       "DEPNAM01= 'numpy   '                                                            \n",
       "DEPVER01= '1.16.4  '                                                            \n",
       "DEPNAM02= 'scipy   '                                                            \n",
       "DEPVER02= '1.3.0   '                                                            \n",
       "DEPNAM03= 'astropy '                                                            \n",
       "DEPVER03= '2.0.14  '                                                            \n",
       "DEPNAM04= 'yaml    '                                                            \n",
       "DEPVER04= '5.1.1   '                                                            \n",
       "DEPNAM05= 'desiutil'                                                            \n",
       "DEPVER05= '2.0.1.dev757'                                                        \n",
       "DEPNAM06= 'desispec'                                                            \n",
       "DEPVER06= '0.31.0.dev3623'                                                      \n",
       "DEPNAM07= 'desimodel'                                                           \n",
       "DEPVER07= '0.10.2.dev552'                                                       \n",
       "DEPNAM08= 'specter '                                                            \n",
       "DEPVER08= '0.9.1.dev568'                                                        \n",
       "DEPNAM09= 'speclite'                                                            \n",
       "DEPVER09= '0.9dev514'                                                           \n",
       "NSPEC   =                  500 / Number of spectra                              \n",
       "WAVEMIN =               3600.0 / First wavelength [Angstroms]                   \n",
       "WAVEMAX =               5800.0 / Last wavelength [Angstroms]                    \n",
       "WAVESTEP=                  0.8 / Wavelength step size [Angstroms]               \n",
       "SPECTER = '0.9.1.dev568'       / https://github.com/desihub/specter             \n",
       "IN_PSF  = '...s/20191117/00029181/psf-b3-00029181.fits' / Input spectral PSF    \n",
       "IN_IMG  = '...191117/00029181/preproc-b3-00029181.fits' / Input image           \n",
       "FIBERMIN=                    0                                                  \n",
       "BUNIT   = 'count/Angstrom'                                                      \n",
       "DEPNAM10= 'fitsio  '                                                            \n",
       "DEPVER10= '0.9.11  '                                                            \n",
       "DEPNAM11= 'mpi4py  '                                                            \n",
       "DEPVER11= '3.0.1   '                                                            \n",
       "DEPNAM12= 'desitarget'                                                          \n",
       "DEPVER12= '0.34.0.dev3626'                                                      "
      ]
     },
     "execution_count": 57,
     "metadata": {},
     "output_type": "execute_result"
    }
   ],
   "source": [
    "bcam.meta"
   ]
  },
  {
   "cell_type": "code",
   "execution_count": 56,
   "metadata": {},
   "outputs": [
    {
     "data": {
      "text/plain": [
       "['R',\n",
       " '__class__',\n",
       " '__delattr__',\n",
       " '__dict__',\n",
       " '__dir__',\n",
       " '__doc__',\n",
       " '__eq__',\n",
       " '__format__',\n",
       " '__ge__',\n",
       " '__getattribute__',\n",
       " '__getitem__',\n",
       " '__gt__',\n",
       " '__hash__',\n",
       " '__init__',\n",
       " '__init_subclass__',\n",
       " '__le__',\n",
       " '__lt__',\n",
       " '__module__',\n",
       " '__ne__',\n",
       " '__new__',\n",
       " '__reduce__',\n",
       " '__reduce_ex__',\n",
       " '__repr__',\n",
       " '__setattr__',\n",
       " '__sizeof__',\n",
       " '__str__',\n",
       " '__subclasshook__',\n",
       " '__weakref__',\n",
       " 'chi2pix',\n",
       " 'fibermap',\n",
       " 'fibers',\n",
       " 'flux',\n",
       " 'ivar',\n",
       " 'mask',\n",
       " 'meta',\n",
       " 'ndiag',\n",
       " 'nspec',\n",
       " 'nwave',\n",
       " 'resolution_data',\n",
       " 'scores',\n",
       " 'scores_comments',\n",
       " 'spectrograph',\n",
       " 'vet',\n",
       " 'wave',\n",
       " 'wsigma']"
      ]
     },
     "execution_count": 56,
     "metadata": {},
     "output_type": "execute_result"
    }
   ],
   "source": [
    "dir(bcam)"
   ]
  },
  {
   "cell_type": "code",
   "execution_count": 53,
   "metadata": {},
   "outputs": [],
   "source": [
    "def read_fibermap(night=20191116, expid=28818, fiberassignid=63064):\n",
    "    strexpid = '{:08d}'.format(expid)\n",
    "    strfiberassignid = '{:06d}'.format(fiberassignid)\n",
    "                  \n",
    "    fiberassignfile = os.path.join(datadir, str(night), strexpid, 'fiberassign-{}.fits'.format(\n",
    "        strfiberassignid))\n",
    "    sr = desispec.io.read_frame(specfile)\n",
    "    return sr"
   ]
  },
  {
   "cell_type": "code",
   "execution_count": 11,
   "metadata": {},
   "outputs": [
    {
     "data": {
      "text/plain": [
       "['__call__',\n",
       " '__class__',\n",
       " '__delattr__',\n",
       " '__dict__',\n",
       " '__dir__',\n",
       " '__doc__',\n",
       " '__eq__',\n",
       " '__format__',\n",
       " '__ge__',\n",
       " '__getattribute__',\n",
       " '__gt__',\n",
       " '__hash__',\n",
       " '__init__',\n",
       " '__init_subclass__',\n",
       " '__le__',\n",
       " '__lt__',\n",
       " '__module__',\n",
       " '__ne__',\n",
       " '__new__',\n",
       " '__reduce__',\n",
       " '__reduce_ex__',\n",
       " '__repr__',\n",
       " '__setattr__',\n",
       " '__sizeof__',\n",
       " '__str__',\n",
       " '__subclasshook__',\n",
       " '__weakref__',\n",
       " '_extinction',\n",
       " '_fiberinput',\n",
       " '_hc',\n",
       " '_throughput',\n",
       " '_thru',\n",
       " '_wave',\n",
       " 'apply_throughput',\n",
       " 'area',\n",
       " 'atmospheric_throughput',\n",
       " 'exptime',\n",
       " 'extinction',\n",
       " 'fiberarea',\n",
       " 'fiberdia',\n",
       " 'fiberinput_throughput',\n",
       " 'hardware_throughput',\n",
       " 'photons',\n",
       " 'thru',\n",
       " 'wavemax',\n",
       " 'wavemin']"
      ]
     },
     "execution_count": 11,
     "metadata": {},
     "output_type": "execute_result"
    }
   ],
   "source": [
    "dir(bthru)"
   ]
  },
  {
   "cell_type": "code",
   "execution_count": 26,
   "metadata": {},
   "outputs": [
    {
     "name": "stdout",
     "output_type": "stream",
     "text": [
      "Help on method thru in module specter.throughput:\n",
      "\n",
      "thru(*args, **kwargs) method of specter.throughput.Throughput instance\n",
      "    same as calling self(*args, **kwargs)\n",
      "\n"
     ]
    }
   ],
   "source": [
    "help(bthru.thru)"
   ]
  },
  {
   "cell_type": "code",
   "execution_count": null,
   "metadata": {},
   "outputs": [],
   "source": []
  }
 ],
 "metadata": {
  "kernelspec": {
   "display_name": "DESI master ioannis",
   "language": "python",
   "name": "desi-master-ioannis"
  },
  "language_info": {
   "codemirror_mode": {
    "name": "ipython",
    "version": 3
   },
   "file_extension": ".py",
   "mimetype": "text/x-python",
   "name": "python",
   "nbconvert_exporter": "python",
   "pygments_lexer": "ipython3",
   "version": "3.6.6"
  }
 },
 "nbformat": 4,
 "nbformat_minor": 4
}
